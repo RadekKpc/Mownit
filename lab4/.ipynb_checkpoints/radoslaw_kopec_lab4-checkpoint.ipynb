{
 "cells": [
  {
   "cell_type": "markdown",
   "metadata": {},
   "source": [
    "<h5 align=\"center\">Metody Obliczeniowe w Nauce i Technice </h5>\n",
    "<h6 align=\"center\">Labolatorium 4</h6>\n",
    "<h6 align=\"center\"> Singular Value Decomposition II</h6>\n"
   ]
  },
  {
   "cell_type": "code",
   "execution_count": 2,
   "metadata": {},
   "outputs": [],
   "source": [
    "import numpy as np\n",
    "import math"
   ]
  },
  {
   "cell_type": "markdown",
   "metadata": {},
   "source": [
    "<b>Zadanie 1 Wyszukiwarka</b> <br>\n",
    "<hr><b>1.1</b> Przygotowujemy zbiór dokumentów tekstowych w języku angielskim.\n",
    "Użyłem 20 dokumentów, bo są one tak bogate w słownictwo, że tworzone macierze dla większej ich ilośći były zbyt duże."
   ]
  },
  {
   "cell_type": "code",
   "execution_count": 3,
   "metadata": {},
   "outputs": [],
   "source": [
    "def open_document_to_read(num):\n",
    "    return open(\"files/text\"+ str(num) +\".txt\",\"r\")"
   ]
  },
  {
   "cell_type": "markdown",
   "metadata": {},
   "source": [
    "<hr><b>1.2</b> Określamy słownik słów kluczowych (termów) potrzebny do wyznaczenia wektorw bag-of-words (indeksacja). Dla nas zbiorem takim jest unia wszystkich słów występujących we wszystkich tekstach. "
   ]
  },
  {
   "cell_type": "code",
   "execution_count": 4,
   "metadata": {},
   "outputs": [],
   "source": [
    "def load(count):\n",
    "    words = []\n",
    "    for i in range(count):\n",
    "        f = open_document_to_read(i)\n",
    "        words += f.read().split(' ')\n",
    "        f.close()\n",
    "    return words"
   ]
  },
  {
   "cell_type": "code",
   "execution_count": 7,
   "metadata": {},
   "outputs": [
    {
     "name": "stdout",
     "output_type": "stream",
     "text": [
      "Union size 8830\n"
     ]
    }
   ],
   "source": [
    "words = load(COUNT_OF_FILES)\n",
    "#  changing all string to lower case\n",
    "for  i, w in enumerate(words):\n",
    "    words[i] = words[i].lower()\n",
    "\n",
    "# creating union of wrolds\n",
    "all_worlds = set(words)\n",
    "wrolds_array = []\n",
    "words_dict = {}\n",
    "\n",
    "for i,w in enumerate(all_worlds):\n",
    "    wrolds_array.append(w)\n",
    "    words_dict[w] = i\n",
    "\n",
    "union_size = int(len(wrolds_array))\n",
    "print(\"Union size\",union_size)"
   ]
  },
  {
   "cell_type": "markdown",
   "metadata": {},
   "source": [
    "<hr><b>1.3</b> Dla każdego dokumentu j wyznaczamy wektor cech bag-of-words dj zawierający częstości występowania poszczególnych słów (termów) w tekście."
   ]
  },
  {
   "cell_type": "code",
   "execution_count": 8,
   "metadata": {},
   "outputs": [],
   "source": [
    "def create_bag_of_words(words,words_dict,union_size):\n",
    "\n",
    "    bag = [0 for x in range(union_size)]\n",
    "\n",
    "    for w in words:\n",
    "        if w in words_dict.keys():\n",
    "            bag[words_dict[w]] += 1\n",
    "\n",
    "    return bag"
   ]
  },
  {
   "cell_type": "markdown",
   "metadata": {},
   "source": [
    "<hr><b>1.4</b> Budujemy rzadką macierz wektorów cech term-by-document matrix w której wektory cech ułożone są kolumnowo Amxn(m jest liczbą termów w słowniku, a n liczbą dokumentów)\n"
   ]
  },
  {
   "cell_type": "code",
   "execution_count": 10,
   "metadata": {},
   "outputs": [],
   "source": [
    "documents = []\n",
    "for i in range(COUNT_OF_FILES):\n",
    "    f = open_document_to_read(i)\n",
    "    words_from_file = f.read().split(' ')\n",
    "    for  i, w in enumerate(words_from_file):\n",
    "        words_from_file[i] = words_from_file[i].lower()\n",
    "\n",
    "    documents.append(create_bag_of_words(words_from_file,words_dict,union_size))\n"
   ]
  },
  {
   "cell_type": "markdown",
   "metadata": {},
   "source": [
    "<hr><b>1.5</b> Przetwarzamy wstępnie otrzymany zbiór danych mnożąc elementy bag-of-words przez inverse document frequency. Operacja ta pozwoli na redukcję znaczenia często występujących słów.\n"
   ]
  },
  {
   "cell_type": "markdown",
   "metadata": {},
   "source": [
    "\\begin{equation*}\n",
    "IDF(w)=log\\frac{N}{n_{w}}\n",
    "\\end{equation*}"
   ]
  },
  {
   "cell_type": "markdown",
   "metadata": {},
   "source": [
    "gdzie nw jest liczbą dokumentów, w których występuje słowo w, a N jest całkowitą liczbą dokumentów."
   ]
  },
  {
   "cell_type": "code",
   "execution_count": 11,
   "metadata": {},
   "outputs": [],
   "source": [
    "idf = []\n",
    "for i,w in enumerate(wrolds_array):\n",
    "    idf.append(0)\n",
    "    for doc in range(COUNT_OF_FILES):\n",
    "        if documents[doc][i] != 0:\n",
    "            idf[i] += 1\n",
    "    if(idf[i]!=0):\n",
    "        idf[i] = math.log(COUNT_OF_FILES/idf[i])"
   ]
  },
  {
   "cell_type": "code",
   "execution_count": 12,
   "metadata": {},
   "outputs": [],
   "source": [
    "for doc in range(COUNT_OF_FILES):\n",
    "    for i,w in enumerate(wrolds_array):\n",
    "        documents[doc][i] *= idf[i]"
   ]
  },
  {
   "cell_type": "markdown",
   "metadata": {},
   "source": [
    "<hr><b>1.6</b> Piszemy program pozwalający na wprowadzenie zapytania (w postaci sekwencji słów) przekształcanego następnie do reprezentacji wektorowej q (bag-of-words). Program ma zwrócić k dokumentów najbardziej zbliżonych do podanego zapytania q. Używamy korelacji między wektorami jako miary podobieństwa\n"
   ]
  },
  {
   "cell_type": "markdown",
   "metadata": {},
   "source": [
    "\\begin{equation*}\n",
    "cos\\theta _{j}=\\frac{q^{T}d_{j}}{\\parallel q \\parallel \\parallel d_{j}\\parallel }\n",
    "=\\frac{q^{T}Ae_{j}}{\\parallel q \\parallel \\parallel Ae_{j}\\parallel }\n",
    "\\end{equation*}"
   ]
  },
  {
   "cell_type": "markdown",
   "metadata": {},
   "source": [
    "* Nasz dokument do porownania:"
   ]
  },
  {
   "cell_type": "code",
   "execution_count": 14,
   "metadata": {},
   "outputs": [],
   "source": [
    "document_to_compare = \"including @ @ @ @ @ @ @ @ @ @ Regions *Dn Laoghaire-Rathdown County Council ( 5 ) *Fingal County Council ( 5 ) Like each Regional Authority , the DRA is assisted in its duties by an Operational Committee and EU Operational Committee . # Dissolution of Dublin County Council # Dublin County Council ( which did not include the county borough of Dublin ) was abolished in 1994 and the area divided among the administrative counties of Dn LaoghaireRathdown , Fingal and South Dublin each with its county seat . To these areas may be added the area of Dublin city which collectively comprise the Dublin Region ( ' ' ' ' ) and come under the remit of the Dublin Regional Authority . The area lost its administrative county status in 1994 , with Section 9 Part 1(a) of the ' ' Local Government ( Dublin ) Act , 1993 ' ' stating that the county shall cease to exist . At that time , and in response to a European Council report highlighting Ireland as the most centralised country in the European Union , it was decided that a single County Dublin was unmanageable and undemocratic from @ @ @ @ @ @ @ @ @ @ dissolve Dublin County Council , Avril Doyle TD said , The Bill before us today effectively abolishes County Dublin , and as one born and bred in these parts of Ireland I find it rather strange that we in this House are abolishing County Dublin . I am not sure whether Dubliners realise that that is what we are about today , but in effect that is the case . Despite the legal status of the Dublin Region , the term County Dublin is still in common usage . Many organisations and sporting teams continue to organise on a County Dublin or Dublin Region basis . The area formerly known as County Dublin is now defined in legislation solely as the Dublin Region under the ' ' Local Government Act , 1991 ( Regional Authorities ) ( Establishment ) Order , 1993 ' ' , and this is the terminology officially used by the four Dublin administrative councils in press releases concerning the former county area . The term ' ' Greater Dublin Area ' ' , which might consist of some or all of the Dublin Region along with counties @ @ @ @ @ @ @ @ @ @ standing . The latest Ordnance Survey Ireland Discovery Series ( Third Edition 2005 ) 1:50,000 map of the Dublin Region , Sheet 50 , shows the boundaries of the city and three surrounding counties of the region . Extremities of the Dublin Region , in the north and south of the region , appear in other sheets of the series , 43 and 56 respectively . # Media # * The local radio stations include 98FM , FM104 , 103.2 Dublin City FM , Dublin 's Q102 , Spin 1038 , Dublin 's Country Mix 106.8 , Phantom 105.2 and Radio Nova . * The local newspapers include ' ' Dublin Penny Journal ' ' , ' ' The Echo ' ' , ' ' The Northside People ' ' , ' ' The Southside People ' ' , ' ' Liffey Champion ' ' and ' ' The Metro Herald ' ' . Most of the area can receive the five main UK television channels on analogue television as well as the main Irish channels , along with Sky TV and UPC cable television . # Transport # * Road @ @ @ @ @ @ @ @ @ @ N4 and N7 national primary roads , and the M1 , M11 and M50 motorways . * Heavy rail : The InterCity and Commuter rail services ( Iarnrd ireann ) . * Light rail : The Luas tram system serving Dublin City and its southern and western suburbs . * Rapid transit : The DART and the proposed Dublin Metro line . * Port : Dublin Port and Dn Laoghaire Harbour . * Air : Dublin International Airport . # Economy # The economy of County Dublin was identified as being the powerhouse behind the Celtic Tiger , a period of strong economic growth of the state . This resulted in the economy of the county expanding by almost 100% between the early 1990s and 2007 . This growth resulted from incoming high-value industries , such as financial services and software manufacturing , as well as low-skilled retail and domestic services , which caused a shift away from older manufacturing-industry . This change saw high unemployment in the 1980s and early 1990s which resulted in damage to the capitals social structure . County Dublin 's GDP in 2002 was 42.505bn , @ @ @ @ @ @ @ @ @ @ , and 171% of the European Union average . The workforce of the county in 2003 was 555,306 which equated to a 95.9% employment rate with services ( 80.0% ) , industrial employment ( 12.0% ) , and construction ( 8.0% ) forming the key industries . # Transport # County Dublin is the main transport node of Ireland , and contains one international airport , Dublin Airport . It is also served by two main seaports , Dn Laoghaire port and Dublin Port , which is just located outside of the city center . The two main train stations are Dublin Heuston and Dublin Connolly , both of which serve intercity trains . # Demographics # According to the 2006 census , County Dublin had a population of 1,187,176 , which constitutes 30% of the national population . This was an increase of 9.5% on 2002 figures . Its population density was 1,218/km . The population of Dublin City , was 506,211 . The median age of the population of the county in the 2006 census was 35.6 years , with 62% of people aged between 2064 years old . @ @ @ @ @ @ @ @ @ @ 48,000 , with a natural increase of 33,000 people . There are 10,469 Irish speakers in County Dublin attending the 31 Gaelscoils ( Irish language primary schools ) and eight Gaelcholiste ( Irish language secondary schools ) . There may be up to another 10,000 Irish speakers from the Gaeltacht living and working in Dublin also . # Urban areas # A list of the largest urban areas ( those with over 1,000 inhabitants ) in County Dublin . Administrative county seats are shown in bold . class= wikitable ! Rank ! Urban area ! County ! Population <small> ( 2006 census ) # Towns and suburbs # * Adamstown * Artane * Ashtown * Balbriggan * Baldoyle * Balgriffin * Ballinteer * Ballsbridge * Ballyboden * Ballybrack * Ballybough * Ballyfermot * Ballygall * Ballymount * Ballymun * Ballyroan * Balrothery * Bayside * Beaumont * Belfield * Blackrock * Blanchardstown * Bluebell * Booterstown * Brittas * Broadstone * Ballyboughal * Cabinteely * Cabra * Carrickmines * Castleknock * Chapelizod * Cherrywood * Churchtown * Clondalkin * Clonsilla * Clonskeagh * Clontarf * Coolmine * Coolock * Corduff * @ @ @ @ @ @ @ @ @ @ Deansgrange * Dollymount * Dolphin 's Barn * Donabate * Donaghmede * Donnybrook * Donnycarney * Drimnagh * Drumcondra * Dn Laoghaire * Dundrum * East Wall * Edmondstown * Fairview * Finglas * Firhouse * Foxrock * Garristown * Glasnevin * Glasthule * Glencullen * Glenageary * Goatstown * Grangegorman * Harold 's Cross * Howth * Inchicore * Irishtown * Islandbridge * Jobstown * Kill O ' The Grange * Kilbarrack * Killester * Killiney * Kilmacud * Kilmainham * Kilnamanagh * Kilternan * Kimmage * Kinsealy * Knocklyon * Leopardstown * Loughlinstown * Lucan * Lusk * Malahide * Marino * Milltown * Monkstown * Mount Merrion * Mulhuddart * Newcastle * Naul * Oldbawn * Ongar * Palmerstown * Phibsborough * Portmarnock * Portobello * Raheny * Ranelagh * Rathcoole * Rathfarnham * Rathgar * Rathmichael * Rathmines * Rialto * Ringsend * Rush * Saggart * Sallynoggin * Sandycove * Sandyford * Sandymount * Santry * Shankill * Skerries * Smithfield * Stepaside * Stillorgan * Stoneybatter * Sutton * Swords * Tallaght * Templeogue * Terenure * The Coombe * Tyrrelstown * Walkinstown * Whitechurch @ @ @ @ @@7514 birthplace = notableinstruments = Christine Lavin ( born January 2 , 1952 ) is a New York City-based singer-songwriter and promoter of contemporary folk music . She has recorded numerous solo albums , and has also recorded with other female folk artists under the name Four Bitchin ' Babes . She has also put together several compilation albums of contemporary folk artists , including her latest ' ' Just One Angel ' ' , 22 singer/songwriters singing **30;600955;TOOLONG Year 's songs including actor Jeff Daniels , Grammy-winners Janis Ian and Julie Gold , and the Guitar Man Of Central Park David Ippolito . She is known for her sense of humor , which is expressed in both her music and her onstage performances . Many of her songs alternate between emotional reflections on romance and outright comedy . Two of her more famous songs are Sensitive New Age Guys and Bald Headed Men . One of Lavin 's songs , Regretting What I Said to You When You Called Me 11:00 On a Friday Morning to Tell Me that at 1:00 Friday Afternoon You 're Gon na Leave @ @ @ @ @ @ @ @ @ @ Go Out to the Airport to Catch a Plane to Go Skiing in the Alps for Two Weeks , Not that I Wanted to Go With You , I Was n't Able to Leave Town , I 'm Not a Very Good Skier , I Could n't Expect You to Pay My Way , But After Going Out With You for Three Years I DO N'T Like Surprises ! ! Subtitled : A Musical Apology is notable for having the longest known song title . It is the eighth song on her 1984 album ' ' Future Fossils ' ' , and is 3:04 ( 3 minutes and 4 seconds ) long . In her youth , Lavin was a cheerleader in Peekskill , New York , and she still has impressive baton-twirling skills ; she often ends a concert by twirling a glow-in-the-dark baton with the house lights turned off as she leaves the stage . Lavin worked at Caffe Lena in Saratoga , New York , until Dave Van Ronk convinced her to move to New York City and make a career as a singer-songwriter . She followed his @ @ @ @ @ @ @ @ @ @ has lived in the City ever since . Lavin was the original host of ' ' Sunday Breakfast ' ' on WFUV in New York City . Lavin was a founding member of the Four Bitchin ' Babes when they were formed in 1990 . In recent years Lavin has been known to host knitting circles before her shows , inviting any knitters , hookers ( people who crochet ) , or other crafters to join her . # Awards # * The ASCAP 43rd Annual Deems Taylor Award for her book ' ' Cold Pizza For Breakfast : A Mem-Wha ? ? ' ' , 2011 * The ASCAP Foundation Jamie deRoy and Friends Award , 2010 * Top 100 of the Most Influential Artists in the Last 15 Years , ' ' Singer Songwriter Magazine ' ' * Top 30 iPod Singer/Songwriters of Choice , WUMB , Boston 2006 * ASCAP Composer Award 1992 , 1993 , 1996 , 1998 , 1999 , 2004 , 2005 , 2006 * Singer/Songwriter of the Year , ' ' Back Stage Magazine ' ' , NYC 2001 * Honorable Mention , NAIRD @ @ @ @ @ @ @ @ @ @ ' ' Please Do nt Make Me Too Happy ' ' * New York Music Award Folk Artist of the Year 1990 , 1992 * World Folk Music Association Kate Wolf Memorial Award 1990 * NAIRD Folk Album of the Year , 1988 : ' ' Good Thing He Cant Read My Mind ' ' # Discography # * ' ' Absolutely Live ' ' ( 1981 ; re-issued by Winthrop , 2000 ) * ' ' Future Fossils ' ' ( Philo , 1984 ) * ' ' Beau Woes and Other Problems of Modern Life ' ' ( Philo , 1986 ) * ' ' Another Woman 's Man ' ' ( Philo , 1987 ) * ' ' Good Thing He Ca n't Read My Mind ' ' ( Philo , 1988 ) * ' ' Attainable Love ' ' ( Philo , 1990 ) * ' ' Compass ' ' ( Philo , 1991 ) * ' ' Live at the Cactus Cafe : What Was I Thinking ? ' ' ( Philo , 1993 ) * ' ' Please Do n't Make Me Too Happy ' @ @ @ @ @ @ @ @ @ @ My Flashlight on the Moon ' ' ( Shanachie , 1997 ) * ' ' One Wild Night in Concert ' ' ( 1998 ) * ' ' Getting in Touch With My Inner Bitch ' ' ( Christine Lavin , 1999 ) * ' ' The Bellevue Years ' ' ( Philo , 2000 ) * ' ' The Subway Series ' ' ( Christine Lavin , 2001 )\"\n",
    "document_to_compare = document_to_compare.split(' ')\n",
    "for  i, w in enumerate(document_to_compare):\n",
    "    document_to_compare[i] = document_to_compare[i].lower()"
   ]
  },
  {
   "cell_type": "markdown",
   "metadata": {},
   "source": [
    "* Wyznaczanie bag-of-words dla tego dokumentu:"
   ]
  },
  {
   "cell_type": "code",
   "execution_count": 15,
   "metadata": {},
   "outputs": [],
   "source": [
    "compare_doc_bag = create_bag_of_words(document_to_compare,words_dict,union_size)"
   ]
  },
  {
   "cell_type": "markdown",
   "metadata": {},
   "source": [
    "* Funkcja wyliczyjaca korelacje miedzy wektorami:"
   ]
  },
  {
   "cell_type": "code",
   "execution_count": 16,
   "metadata": {},
   "outputs": [],
   "source": [
    "def cos_prob(vec_1,vec_2):\n",
    "    if len(vec_1) != len(vec_2):\n",
    "        print(\"podane wektory nie sa rownej dlugosc\")\n",
    "        exit(0)\n",
    "\n",
    "    result = 0.0\n",
    "    for i in range(len(vec_1)):\n",
    "        result += (vec_1[i]*vec_2[i])\n",
    "\n",
    "    norma_1 = 0.0\n",
    "    norma_2 = 0.0\n",
    "    for i in range(len(vec_1)):\n",
    "        norma_1 += vec_1[i]**2\n",
    "        norma_2 += vec_2[i]**2\n",
    "    norma_1 = math.sqrt(norma_1)\n",
    "    norma_2 = math.sqrt(norma_2)\n",
    "\n",
    "    return result/(norma_1*norma_2)"
   ]
  },
  {
   "cell_type": "markdown",
   "metadata": {},
   "source": [
    "* porównywanie naszego dokumentu z wejściowymi dokumentami"
   ]
  },
  {
   "cell_type": "code",
   "execution_count": 17,
   "metadata": {},
   "outputs": [],
   "source": [
    "document_comparing = []\n",
    "\n",
    "for doc in range(COUNT_OF_FILES):\n",
    "    porb = cos_prob(documents[doc],compare_doc_bag)\n",
    "    document_comparing.append({'prob' : porb,'doc': doc})"
   ]
  },
  {
   "cell_type": "code",
   "execution_count": 18,
   "metadata": {},
   "outputs": [
    {
     "name": "stdout",
     "output_type": "stream",
     "text": [
      "Najbardziej podobne dokumnety:\n",
      "files/text2 podobienstwo: 0.12366860734322005\n",
      "files/text3 podobienstwo: 0.5204158487874758\n",
      "files/text19 podobienstwo: 0.10567800280804743\n"
     ]
    }
   ],
   "source": [
    "print(\"Najbardziej podobne dokumnety:\")\n",
    "for d in document_comparing:\n",
    "    if d['prob'] > 0.1:\n",
    "        print(\"files/text\" + str(d['doc']) + \" podobienstwo: \"+ str(d['prob']))\n"
   ]
  },
  {
   "cell_type": "markdown",
   "metadata": {},
   "source": [
    "<hr><b>1.7</b> Stosujemy normalizację wektorów cech dj i wektora q, tak aby miały one długość 1. Używamy zmodyﬁkowanej miary podobieństwa otrzymując:"
   ]
  },
  {
   "cell_type": "markdown",
   "metadata": {},
   "source": [
    "\\begin{equation*}\n",
    "|q^{T}A| = [|cos\\theta_{1} |,|cos\\theta_{2}|,...,|cos\\theta_{n}|]\n",
    "\\end{equation*}"
   ]
  },
  {
   "cell_type": "markdown",
   "metadata": {},
   "source": [
    "Funckja normalizująca wektor:"
   ]
  },
  {
   "cell_type": "code",
   "execution_count": 19,
   "metadata": {},
   "outputs": [],
   "source": [
    "def normalizuj(vec):\n",
    "    res = []\n",
    "    norma = 0.0\n",
    "    for v in vec:\n",
    "        norma += v**2\n",
    "    norma = math.sqrt(norma)\n",
    "\n",
    "    for v in vec:\n",
    "        res.append(v/norma)\n",
    "\n",
    "    return res"
   ]
  },
  {
   "cell_type": "markdown",
   "metadata": {},
   "source": [
    "Normalizacja:"
   ]
  },
  {
   "cell_type": "code",
   "execution_count": 20,
   "metadata": {},
   "outputs": [],
   "source": [
    "compare_doc_bag = normalizuj(compare_doc_bag)\n",
    "\n",
    "for i,doc in enumerate(documents):\n",
    "    documents[i] = normalizuj(doc)"
   ]
  },
  {
   "cell_type": "markdown",
   "metadata": {},
   "source": [
    "Wektor podobieństwa:"
   ]
  },
  {
   "cell_type": "code",
   "execution_count": 21,
   "metadata": {},
   "outputs": [
    {
     "name": "stdout",
     "output_type": "stream",
     "text": [
      "[0.015538099009252883, 0.05988942057234446, 0.12366860734321998, 0.5204158487874757, 0.06677625004964675, 0.04563799060209037, 0.03785212242602418, 0.05880950932683682, 0.03803407442540073, 0.027823592761678, 0.048030367909216484, 0.04079401785853222, 0.038242405503019564, 0.08734632429053374, 0.06235419077927765, 0.01807603519882807, 0.020444849219334767, 0.013266027153569868, 0.03893180019888173, 0.10567800280804744]\n"
     ]
    }
   ],
   "source": [
    "prob_vec = np.dot(documents, compare_doc_bag)\n",
    "print(list(prob_vec))"
   ]
  },
  {
   "cell_type": "markdown",
   "metadata": {},
   "source": [
    "<hr><b>1.8</b>  W celu usunięcia szumu z macierzy A stosujemy SVD i low rank approximation otrzymując"
   ]
  },
  {
   "cell_type": "markdown",
   "metadata": {},
   "source": [
    "\\begin{equation*}\n",
    "A\\simeq A_{k} = U_{k}D_{k}V^{T}_{k} = [u_{1}|...|u_{k}]\\begin{bmatrix}\n",
    "\\alpha_{1} & & \\\\ \n",
    " &  \\ddots & \\\\ \n",
    " &  & \\alpha_{k} \n",
    "\\end{bmatrix}\\begin{bmatrix}\n",
    "v_{1}^{T}\\\\ \n",
    "\\vdots \\\\ \n",
    "v_{k}^{T}\n",
    "\\end{bmatrix}= \\sum_{i=1}^{k}\\alpha_{i}v_{i}v_{i}^{T}\n",
    "\\end{equation*}"
   ]
  },
  {
   "cell_type": "markdown",
   "metadata": {},
   "source": [
    "oraz nową miarę podobieństwa"
   ]
  },
  {
   "cell_type": "markdown",
   "metadata": {},
   "source": [
    "\\begin{equation*}\n",
    "cos\\phi _{j}==\\frac{q^{T}A_{k}e_{j}}{\\parallel q \\parallel \\parallel A_{k}e_{j}\\parallel }\n",
    "\\end{equation*}"
   ]
  },
  {
   "cell_type": "markdown",
   "metadata": {},
   "source": [
    "* Przykladowo dla k = 3"
   ]
  },
  {
   "cell_type": "code",
   "execution_count": 22,
   "metadata": {},
   "outputs": [],
   "source": [
    "k = 3\n",
    "\n",
    "u,s,vh = np.linalg.svd(documents)\n",
    "\n",
    "u = np.matrix(u[:,:k])\n",
    "\n",
    "s = np.diag(s[:k])\n",
    "\n",
    "vh = np.matrix(vh[:k,:])\n",
    "\n",
    "prob_matrix = u * s * vh"
   ]
  },
  {
   "cell_type": "markdown",
   "metadata": {},
   "source": [
    "* nowa miara pradopodobienstwa:"
   ]
  },
  {
   "cell_type": "code",
   "execution_count": 23,
   "metadata": {},
   "outputs": [
    {
     "name": "stdout",
     "output_type": "stream",
     "text": [
      "[0.01715290879766206, 0.029471814322469432, 0.03389909526112612, 0.04300983199467477, 0.025129372723092958, 0.0915391249962956, 0.08745214711703692, 0.09382376254903944, 0.06476010175597187, 0.05725968433599875, 0.05450358155920691, 0.060997301632172, 0.10639657895528286, 0.09661541393311343, 0.08696107766433925, 0.031207174569852683, 0.030588179382193496, 0.018110419040877124, 0.023924217091467546, 0.02596777392157136]\n"
     ]
    }
   ],
   "source": [
    "prob_vec = np.dot(prob_matrix, compare_doc_bag)\n",
    "prob_vec = np.matrix.tolist(prob_vec)[0]\n",
    "print(prob_vec)"
   ]
  },
  {
   "cell_type": "markdown",
   "metadata": {},
   "source": [
    "<hr><b>1.9</b>  Porównujemy działanie programu bez usuwania szumu i z usuwaniem szumu. Określaby (subiektywnie) dla jakiej wartości k wyniki wyszukiwania są najlepsze. Badamy wpływ przekształcenia IDF na wyniki wyszukiwania.\n"
   ]
  },
  {
   "cell_type": "code",
   "execution_count": 24,
   "metadata": {},
   "outputs": [
    {
     "name": "stdout",
     "output_type": "stream",
     "text": [
      "Dla k =  0\n",
      "Dla k =  1\n",
      "files/text12 podobienstwo: 0.12702353529906402\n",
      "files/text13 podobienstwo: 0.12188925097671217\n",
      "files/text14 podobienstwo: 0.10931160392896082\n",
      "Dla k =  2\n",
      "files/text12 podobienstwo: 0.10804288318755134\n",
      "Dla k =  3\n",
      "files/text12 podobienstwo: 0.10639657895528286\n",
      "Dla k =  4\n",
      "files/text15 podobienstwo: 0.12187203886989009\n",
      "files/text16 podobienstwo: 0.12163832647382163\n",
      "Dla k =  5\n",
      "files/text1 podobienstwo: 0.16926677113789457\n",
      "files/text2 podobienstwo: 0.2909521122882692\n",
      "files/text3 podobienstwo: 0.28301967192543354\n",
      "Dla k =  6\n",
      "files/text1 podobienstwo: 0.16585124423419795\n",
      "files/text2 podobienstwo: 0.2855785648937478\n",
      "files/text3 podobienstwo: 0.28277048812344263\n",
      "files/text19 podobienstwo: 0.10257494136691318\n",
      "Dla k =  7\n",
      "files/text2 podobienstwo: 0.2619034410286828\n",
      "files/text3 podobienstwo: 0.3158059984752183\n",
      "files/text4 podobienstwo: 0.10161612907837403\n",
      "files/text19 podobienstwo: 0.202560105818394\n",
      "Dla k =  8\n",
      "files/text2 podobienstwo: 0.26136525285775414\n",
      "files/text3 podobienstwo: 0.3159805779417216\n",
      "files/text4 podobienstwo: 0.10721729812998229\n",
      "files/text19 podobienstwo: 0.20196712162137087\n",
      "Dla k =  9\n",
      "files/text2 podobienstwo: 0.2616108177371026\n",
      "files/text3 podobienstwo: 0.31608825695690534\n",
      "files/text4 podobienstwo: 0.1114027550172212\n",
      "files/text19 podobienstwo: 0.1991763717299333\n",
      "Dla k =  10\n",
      "files/text2 podobienstwo: 0.2747912474583678\n",
      "files/text3 podobienstwo: 0.3486976943162849\n",
      "files/text4 podobienstwo: 0.10448132816340891\n",
      "files/text19 podobienstwo: 0.17562494869842427\n",
      "Dla k =  11\n",
      "files/text2 podobienstwo: 0.2878052500505537\n",
      "files/text3 podobienstwo: 0.3680971415349784\n",
      "files/text19 podobienstwo: 0.14646419675612277\n",
      "Dla k =  12\n",
      "files/text2 podobienstwo: 0.2863184196228581\n",
      "files/text3 podobienstwo: 0.36882006431192843\n",
      "files/text19 podobienstwo: 0.14603375365515284\n",
      "Dla k =  13\n",
      "files/text2 podobienstwo: 0.28571322982652647\n",
      "files/text3 podobienstwo: 0.37017685995183436\n",
      "files/text19 podobienstwo: 0.14724129365239433\n",
      "Dla k =  14\n",
      "files/text2 podobienstwo: 0.2803012453988864\n",
      "files/text3 podobienstwo: 0.37400071590591777\n",
      "files/text19 podobienstwo: 0.1481869096088369\n",
      "Dla k =  15\n",
      "files/text2 podobienstwo: 0.20847362769770714\n",
      "files/text3 podobienstwo: 0.4423007240217986\n",
      "files/text19 podobienstwo: 0.127709769958794\n",
      "Dla k =  16\n",
      "files/text2 podobienstwo: 0.12492983758291194\n",
      "files/text3 podobienstwo: 0.5188125866286544\n",
      "files/text19 podobienstwo: 0.10585538934090846\n",
      "Dla k =  17\n",
      "files/text2 podobienstwo: 0.12485384904514564\n",
      "files/text3 podobienstwo: 0.5189226590859823\n",
      "files/text19 podobienstwo: 0.10579223878301842\n",
      "Dla k =  18\n",
      "files/text2 podobienstwo: 0.12482156280943699\n",
      "files/text3 podobienstwo: 0.5189482078805325\n",
      "files/text19 podobienstwo: 0.1058037428733672\n",
      "Dla k =  19\n",
      "files/text2 podobienstwo: 0.12371614934110851\n",
      "files/text3 podobienstwo: 0.5203333674822525\n",
      "files/text19 podobienstwo: 0.1056745411917398\n",
      "Dla k =  20\n",
      "files/text2 podobienstwo: 0.12366860734321981\n",
      "files/text3 podobienstwo: 0.5204158487874753\n",
      "files/text19 podobienstwo: 0.10567800280804718\n"
     ]
    }
   ],
   "source": [
    "for k in range(0,COUNT_OF_FILES+1):\n",
    "\n",
    "    u,s,vh = np.linalg.svd(documents)\n",
    "\n",
    "    u = np.matrix(u[:,:k])\n",
    "\n",
    "    s = np.diag(s[:k])\n",
    "\n",
    "    vh = np.matrix(vh[:k,:])\n",
    "\n",
    "    prob_matrix = u * s * vh\n",
    "\n",
    "    prob_vec = np.dot(prob_matrix, compare_doc_bag)\n",
    "    prob_vec = np.matrix.tolist(prob_vec)[0]\n",
    "    print(\"Dla k = \",k)\n",
    "    for i,v in enumerate(prob_vec):\n",
    "        if v > 0.1:\n",
    "            print(\"files/text\" + str(i) + \" podobienstwo: \"+ str(v))"
   ]
  },
  {
   "cell_type": "markdown",
   "metadata": {},
   "source": [
    "* Badany plik to wycinek pliku text3, wiec dla niego prawdopodobienstwo powinno byc największe, natomiast plik text3 i text2 powstały w wyniuku podzielenia jednego framentu tekstu dlatego plik text2 tez powinien znaleźć się w wyniku wyszukiwania\n",
    "* Jak widac dla k=0 nie znaleźiono żadnych podobnych plików.\n",
    "* Dla k = 1,2,3,4 mamy błędne wyniki wyszukiwania, ponieważ przy pełnej maceirzy podobne pliki to 2,3,19\n",
    "* Dla k = 5-10: W wyniku znajdują sie odpowiednie pliki, lecz również zawiera on te błędne. prawdopodobienstwa są zbyt zblirzone do siebie\n",
    "* Dla k = 15-20 wyniki są poprawne lecz liczby są zbyt niskie dla pliku text2 i text19, bardzo wyoski wynik dla text3\n",
    "* Dlatego moim zdaniem najlepsze wyniki są dla k = 11-14 wyoski wynik dla text2 i dla text3, które są czescią tego samego tekstu\n"
   ]
  },
  {
   "cell_type": "markdown",
   "metadata": {},
   "source": [
    "Poniżej znajdują się wyniki dla algorytmu bez użycia IDF:"
   ]
  },
  {
   "cell_type": "markdown",
   "metadata": {},
   "source": [
    "Dla k =  0 <br>\n",
    "Dla k =  1 <br>\n",
    "files/text0 podobienstwo: 0.7327178875095531<br>\n",
    "files/text1 podobienstwo: 0.7591606987772365<br>\n",
    "files/text2 podobienstwo: 0.7462048122448113<br>\n",
    "files/text3 podobienstwo: 0.6339900545897977<br>\n",
    "files/text4 podobienstwo: 0.6939307714465406<br>\n",
    "files/text5 podobienstwo: 0.7570522333384393<br>\n",
    "files/text6 podobienstwo: 0.7714317330965467<br>\n",
    "files/text7 podobienstwo: 0.6958691440250069<br>\n",
    "files/text8 podobienstwo: 0.7623993998534271<br>\n",
    "files/text9 podobienstwo: 0.7545830650061074<br>\n",
    "files/text10 podobienstwo: 0.745071295735961<br>\n",
    "files/text11 podobienstwo: 0.7526689723384801<br>\n",
    "files/text12 podobienstwo: 0.7331464599901496<br>\n",
    "files/text13 podobienstwo: 0.4107997629173522<br>\n",
    "files/text14 podobienstwo: 0.5169164494247589<br>\n",
    "files/text15 podobienstwo: 0.7297351506715857<br>\n",
    "files/text16 podobienstwo: 0.7316960528932318<br>\n",
    "files/text17 podobienstwo: 0.7282762369435967<br>\n",
    "files/text18 podobienstwo: 0.6803814153071426<br>\n",
    "files/text19 podobienstwo: 0.7117383418061711<br>\n",
    "Dla k =  2 <br>\n",
    "files/text0 podobienstwo: 0.7069403516334194<br>\n",
    "files/text1 podobienstwo: 0.7391615314993327<br>\n",
    "files/text2 podobienstwo: 0.720707875390694<br>\n",
    "files/text3 podobienstwo: 0.6681693397924499<br>\n",
    "files/text4 podobienstwo: 0.7043561587059894<br>\n",
    "files/text5 podobienstwo: 0.7307725016488307<br>\n",
    "files/text6 podobienstwo: 0.7543941090372556<br>\n",
    "files/text7 podobienstwo: 0.6856826461037776<br>\n",
    "files/text8 podobienstwo: 0.7420922997569132<br>\n",
    "files/text9 podobienstwo: 0.7448623658217808<br>\n",
    "files/text10 podobienstwo: 0.7617095563752312<br>\n",
    "files/text11 podobienstwo: 0.733031304539927<br>\n",
    "files/text12 podobienstwo: 0.7485439374560996<br>\n",
    "files/text13 podobienstwo: 0.5623827779072462<br>\n",
    "files/text14 podobienstwo: 0.6483582135303991<br>\n",
    "files/text15 podobienstwo: 0.6960536497778421<br>\n",
    "files/text16 podobienstwo: 0.697358328736408<br>\n",
    "files/text17 podobienstwo: 0.7026611033009512<br>\n",
    "files/text18 podobienstwo: 0.6727814813512217<br>\n",
    "files/text19 podobienstwo: 0.7420111310900138<br>\n",
    "Dla k =  3 <br>\n",
    "files/text0 podobienstwo: 0.6440394971800761<br>\n",
    "files/text1 podobienstwo: 0.6943090290526922<br>\n",
    "files/text2 podobienstwo: 0.6810765502343148<br>\n",
    "files/text3 podobienstwo: 0.78754329154226<br>\n",
    "files/text4 podobienstwo: 0.8424357881178932<br>\n",
    "files/text5 podobienstwo: 0.780669498227775<br>\n",
    "files/text6 podobienstwo: 0.762868674674392<br>\n",
    "files/text7 podobienstwo: 0.8263469117690908<br>\n",
    "files/text8 podobienstwo: 0.7052973384825915<br>\n",
    "files/text9 podobienstwo: 0.702776651626041<br>\n",
    "files/text10 podobienstwo: 0.7995086294997801<br>\n",
    "files/text11 podobienstwo: 0.6755756006656762<br>\n",
    "files/text12 podobienstwo: 0.6776905067901136<br>\n",
    "files/text13 podobienstwo: 0.5117437242065068<br>\n",
    "files/text14 podobienstwo: 0.6046473422216575<br>\n",
    "files/text15 podobienstwo: 0.6261542913997952<br>\n",
    "files/text16 podobienstwo: 0.644162242055892<br>\n",
    "files/text17 podobienstwo: 0.640042952402092<br>\n",
    "files/text18 podobienstwo: 0.800736820559593<br>\n",
    "files/text19 podobienstwo: 0.762703491820875<br>\n",
    "Dla k =  4 <br>\n",
    "files/text0 podobienstwo: 0.6244412025137538<br>\n",
    "files/text1 podobienstwo: 0.7073940688869695<br>\n",
    "files/text2 podobienstwo: 0.712708816994347<br>\n",
    "files/text3 podobienstwo: 0.9371453828140288<br>\n",
    "files/text4 podobienstwo: 0.7916433918671961<br>\n",
    "files/text5 podobienstwo: 0.7585855581922232<br>\n",
    "files/text6 podobienstwo: 0.7474148292445556<br>\n",
    "files/text7 podobienstwo: 0.77812163197997<br>\n",
    "files/text8 podobienstwo: 0.6721977964577548<br>\n",
    "files/text9 podobienstwo: 0.6744621305238732<br>\n",
    "files/text10 podobienstwo: 0.7709624018065223<br>\n",
    "files/text11 podobienstwo: 0.6568500730660544<br>\n",
    "files/text12 podobienstwo: 0.631006974396822<br>\n",
    "files/text13 podobienstwo: 0.4939364563564326<br>\n",
    "files/text14 podobienstwo: 0.5916793188441097<br>\n",
    "files/text15 podobienstwo: 0.660049275550113<br>\n",
    "files/text16 podobienstwo: 0.6820527346781321<br>\n",
    "files/text17 podobienstwo: 0.6816031922531132<br>\n",
    "files/text18 podobienstwo: 0.7700937414215873<br>\n",
    "files/text19 podobienstwo: 0.8354161973446443<br>\n",
    "Dla k =  5 <br>\n",
    "files/text0 podobienstwo: 0.6301274964244514<br>\n",
    "files/text1 podobienstwo: 0.7122844030612675<br>\n",
    "files/text2 podobienstwo: 0.7140719578797743<br>\n",
    "files/text3 podobienstwo: 0.9437255345902715<br>\n",
    "files/text4 podobienstwo: 0.7957349608112315<br>\n",
    "files/text5 podobienstwo: 0.753489025211401<br>\n",
    "files/text6 podobienstwo: 0.7483755980934376<br>\n",
    "files/text7 podobienstwo: 0.7748529248091139<br>\n",
    "files/text8 podobienstwo: 0.6804447396856222<br>\n",
    "files/text9 podobienstwo: 0.689328341932934<br>\n",
    "files/text10 podobienstwo: 0.7825032654301289<br>\n",
    "files/text11 podobienstwo: 0.6687936653634589<br>\n",
    "files/text12 podobienstwo: 0.6249463896177734<br>\n",
    "files/text13 podobienstwo: 0.4897340121872804<br>\n",
    "files/text14 podobienstwo: 0.5854563253817268<br>\n",
    "files/text15 podobienstwo: 0.6475821994420143<br>\n",
    "files/text16 podobienstwo: 0.6661582159137958<br>\n",
    "files/text17 podobienstwo: 0.6684808934873349<br>\n",
    "files/text18 podobienstwo: 0.7505454709525439<br>\n",
    "files/text19 podobienstwo: 0.8457598318308296<br>\n",
    "Dla k =  6 <br>\n",
    "files/text0 podobienstwo: 0.6518279786704435<br>\n",
    "files/text1 podobienstwo: 0.7229028687233812<br>\n",
    "files/text2 podobienstwo: 0.7261459167673087<br>\n",
    "files/text3 podobienstwo: 0.99236633425115<br>\n",
    "files/text4 podobienstwo: 0.79564765512841<br>\n",
    "files/text5 podobienstwo: 0.7621597734039821<br>\n",
    "files/text6 podobienstwo: 0.7364467655361462<br>\n",
    "files/text7 podobienstwo: 0.7878113151405377<br>\n",
    "files/text8 podobienstwo: 0.7031532105892826<br>\n",
    "files/text9 podobienstwo: 0.676170410253319<br>\n",
    "files/text10 podobienstwo: 0.7565051519688145<br>\n",
    "files/text11 podobienstwo: 0.6651549239449751<br>\n",
    "files/text12 podobienstwo: 0.6621562809441178<br>\n",
    "files/text13 podobienstwo: 0.49666405360308963<br>\n",
    "files/text14 podobienstwo: 0.5816808810242404<br>\n",
    "files/text15 podobienstwo: 0.6403964866162228<br>\n",
    "files/text16 podobienstwo: 0.6654138180748672<br>\n",
    "files/text17 podobienstwo: 0.6428930143718112<br>\n",
    "files/text18 podobienstwo: 0.7304342358390724<br>\n",
    "files/text19 podobienstwo: 0.7818720226514619<br>\n",
    "Dla k =  7 <br>\n",
    "files/text0 podobienstwo: 0.6461026111528229<br>\n",
    "files/text1 podobienstwo: 0.721531549448396<br>\n",
    "files/text2 podobienstwo: 0.7241713290506129<br>\n",
    "files/text3 podobienstwo: 0.9936875193880992<br>\n",
    "files/text4 podobienstwo: 0.7944218001071032<br>\n",
    "files/text5 podobienstwo: 0.7597011144044382<br>\n",
    "files/text6 podobienstwo: 0.7329040000914271<br>\n",
    "files/text7 podobienstwo: 0.7894642121336509<br>\n",
    "files/text8 podobienstwo: 0.7047773714267221<br>\n",
    "files/text9 podobienstwo: 0.6785993214642352<br>\n",
    "files/text10 podobienstwo: 0.7635399174126302<br>\n",
    "files/text11 podobienstwo: 0.666673356332204<br>\n",
    "files/text12 podobienstwo: 0.6611868349473838<br>\n",
    "files/text13 podobienstwo: 0.4952413904777492<br>\n",
    "files/text14 podobienstwo: 0.5831504045639719<br>\n",
    "files/text15 podobienstwo: 0.6443779668533697<br>\n",
    "files/text16 podobienstwo: 0.6697014311166797<br>\n",
    "files/text17 podobienstwo: 0.6414678814337675<br>\n",
    "files/text18 podobienstwo: 0.729186968529331<br>\n",
    "files/text19 podobienstwo: 0.7777845749383645<br>\n",
    "Dla k =  8 <br>\n",
    "files/text0 podobienstwo: 0.648015918511726<br>\n",
    "files/text1 podobienstwo: 0.7213315189549497<br>\n",
    "files/text2 podobienstwo: 0.7256038610374297<br>\n",
    "files/text3 podobienstwo: 0.9938985450722513<br>\n",
    "files/text4 podobienstwo: 0.795221809315565<br>\n",
    "files/text5 podobienstwo: 0.7581914733538706<br>\n",
    "files/text6 podobienstwo: 0.7319099639742579<br>\n",
    "files/text7 podobienstwo: 0.787616067926435<br>\n",
    "files/text8 podobienstwo: 0.7048424237937317<br>\n",
    "files/text9 podobienstwo: 0.6782960785166158<br>\n",
    "files/text10 podobienstwo: 0.7643761834269266<br>\n",
    "files/text11 podobienstwo: 0.6672111366380492<br>\n",
    "files/text12 podobienstwo: 0.6596950353145434<br>\n",
    "files/text13 podobienstwo: 0.4946639945394276<br>\n",
    "files/text14 podobienstwo: 0.5841570071437833<br>\n",
    "files/text15 podobienstwo: 0.6440423101432434<br>\n",
    "files/text16 podobienstwo: 0.6694868280094862<br>\n",
    "files/text17 podobienstwo: 0.6414992535052293<br>\n",
    "files/text18 podobienstwo: 0.7312752951063171<br>\n",
    "files/text19 podobienstwo: 0.7765313371953514<br>\n",
    "Dla k =  9 <br>\n",
    "files/text0 podobienstwo: 0.6462975811601218<br>\n",
    "files/text1 podobienstwo: 0.7193800662003087<br>\n",
    "files/text2 podobienstwo: 0.7202503088391526<br>\n",
    "files/text3 podobienstwo: 0.9968157425410262<br>\n",
    "files/text4 podobienstwo: 0.7935328786437157<br>\n",
    "files/text5 podobienstwo: 0.7543620879563796<br>\n",
    "files/text6 podobienstwo: 0.7303137840141569<br>\n",
    "files/text7 podobienstwo: 0.782372487319036<br>\n",
    "files/text8 podobienstwo: 0.7064188114382426<br>\n",
    "files/text9 podobienstwo: 0.6836487945026366<br>\n",
    "files/text10 podobienstwo: 0.7624928087878046<br>\n",
    "files/text11 podobienstwo: 0.6697869535152904<br>\n",
    "files/text12 podobienstwo: 0.6667286355369297<br>\n",
    "files/text13 podobienstwo: 0.49786483401662696<br>\n",
    "files/text14 podobienstwo: 0.5767923783978877<br>\n",
    "files/text15 podobienstwo: 0.6453083639829964<br>\n",
    "files/text16 podobienstwo: 0.6674536612512383<br>\n",
    "files/text17 podobienstwo: 0.6398829454579747<br>\n",
    "files/text18 podobienstwo: 0.7398910006718582<br>\n",
    "files/text19 podobienstwo: 0.778322724578086<br>\n",
    "Dla k =  10 <br>\n",
    "files/text0 podobienstwo: 0.6454024901058638<br>\n",
    "files/text1 podobienstwo: 0.7196163082905325<br>\n",
    "files/text2 podobienstwo: 0.7210852874343918<br>\n",
    "files/text3 podobienstwo: 0.9968505212538072<br>\n",
    "files/text4 podobienstwo: 0.7929522498763607<br>\n",
    "files/text5 podobienstwo: 0.754493288611499<br>\n",
    "files/text6 podobienstwo: 0.7303781353227469<br>\n",
    "files/text7 podobienstwo: 0.7824143406651722<br>\n",
    "files/text8 podobienstwo: 0.7062482644995399<br>\n",
    "files/text9 podobienstwo: 0.6835762583766204<br>\n",
    "files/text10 podobienstwo: 0.7627586773448883<br>\n",
    "files/text11 podobienstwo: 0.6701950101674387<br>\n",
    "files/text12 podobienstwo: 0.6671241274437235<br>\n",
    "files/text13 podobienstwo: 0.49770739780101647<br>\n",
    "files/text14 podobienstwo: 0.5768714089486187<br>\n",
    "files/text15 podobienstwo: 0.6446224169868089<br>\n",
    "files/text16 podobienstwo: 0.6668439629903664<br>\n",
    "files/text17 podobienstwo: 0.640437209948197<br>\n",
    "files/text18 podobienstwo: 0.7401864311145848<br>\n",
    "files/text19 podobienstwo: 0.7780580609177091<br>\n",
    "Dla k =  11 <br>\n",
    "files/text0 podobienstwo: 0.6471604475010176<br>\n",
    "files/text1 podobienstwo: 0.7182151116846116<br>\n",
    "files/text2 podobienstwo: 0.7154189836559935<br>\n",
    "files/text3 podobienstwo: 0.9984630365631698<br>\n",
    "files/text4 podobienstwo: 0.7942943116683359<br>\n",
    "files/text5 podobienstwo: 0.7545392128306733<br>\n",
    "files/text6 podobienstwo: 0.7293046732972344<br>\n",
    "files/text7 podobienstwo: 0.7827165090634692<br>\n",
    "files/text8 podobienstwo: 0.7074024083667703<br>\n",
    "files/text9 podobienstwo: 0.6841104657490605<br>\n",
    "files/text10 podobienstwo: 0.7632470012924886<br>\n",
    "files/text11 podobienstwo: 0.6711590349414145<br>\n",
    "files/text12 podobienstwo: 0.6665605255279915<br>\n",
    "files/text13 podobienstwo: 0.49737476948997533<br>\n",
    "files/text14 podobienstwo: 0.5770600508982253<br>\n",
    "files/text15 podobienstwo: 0.6420799930270719<br>\n",
    "files/text16 podobienstwo: 0.6655417303988151<br>\n",
    "files/text17 podobienstwo: 0.6488719921878451<br>\n",
    "files/text18 podobienstwo: 0.7385262530498301<br>\n",
    "files/text19 podobienstwo: 0.7759618419484151<br>\n",
    "Dla k =  12 <br>\n",
    "files/text0 podobienstwo: 0.6479638625008005<br>\n",
    "files/text1 podobienstwo: 0.7189890312420857<br>\n",
    "files/text2 podobienstwo: 0.7143777047701149<br>\n",
    "files/text3 podobienstwo: 0.9985890153535631<br>\n",
    "files/text4 podobienstwo: 0.7922166977755903<br>\n",
    "files/text5 podobienstwo: 0.7548185802429779<br>\n",
    "files/text6 podobienstwo: 0.7293378533043169<br>\n",
    "files/text7 podobienstwo: 0.7833785018569426<br>\n",
    "files/text8 podobienstwo: 0.7080419121649291<br>\n",
    "files/text9 podobienstwo: 0.6839316105058304<br>\n",
    "files/text10 podobienstwo: 0.7635078341735577<br>\n",
    "files/text11 podobienstwo: 0.6710001875909603<br>\n",
    "files/text12 podobienstwo: 0.6661174511395471<br>\n",
    "files/text13 podobienstwo: 0.4969142901466439<br>\n",
    "files/text14 podobienstwo: 0.5777380504541992<br>\n",
    "files/text15 podobienstwo: 0.6417083927235905<br>\n",
    "files/text16 podobienstwo: 0.6653627803015179<br>\n",
    "files/text17 podobienstwo: 0.6483758221326709<br>\n",
    "files/text18 podobienstwo: 0.739373311232031<br>\n",
    "files/text19 podobienstwo: 0.7762262531446434<br>\n",
    "Dla k =  13 <br>\n",
    "files/text0 podobienstwo: 0.6476376546018296<br>\n",
    "files/text1 podobienstwo: 0.7157440156382974<br>\n",
    "files/text2 podobienstwo: 0.7136928249332946<br>\n",
    "files/text3 podobienstwo: 0.9992345164047491<br>\n",
    "files/text4 podobienstwo: 0.7922062344743904<br>\n",
    "files/text5 podobienstwo: 0.756742681728647<br>\n",
    "files/text6 podobienstwo: 0.7303053854217263<br>\n",
    "files/text7 podobienstwo: 0.7821662873735742<br>\n",
    "files/text8 podobienstwo: 0.7079811753435878<br>\n",
    "files/text9 podobienstwo: 0.6838975646999839<br>\n",
    "files/text10 podobienstwo: 0.7621156507544402<br>\n",
    "files/text11 podobienstwo: 0.6736287434616741<br>\n",
    "files/text12 podobienstwo: 0.6669018473676207<br>\n",
    "files/text13 podobienstwo: 0.494450683734482<br>\n",
    "files/text14 podobienstwo: 0.5803792285772595<br>\n",
    "files/text15 podobienstwo: 0.6421586611331644<br>\n",
    "files/text16 podobienstwo: 0.6651625696327786<br>\n",
    "files/text17 podobienstwo: 0.6473497052196145<br>\n",
    "files/text18 podobienstwo: 0.7393170932068515<br>\n",
    "files/text19 podobienstwo: 0.7765888933059373<br>\n",
    "Dla k =  14 <br>\n",
    "files/text0 podobienstwo: 0.6479939128241801<br>\n",
    "files/text1 podobienstwo: 0.714397489778434<br>\n",
    "files/text2 podobienstwo: 0.7142002170927332<br>\n",
    "files/text3 podobienstwo: 0.999325020431765<br>\n",
    "files/text4 podobienstwo: 0.7914954898607399<br>\n",
    "files/text5 podobienstwo: 0.7572075402475157<br>\n",
    "files/text6 podobienstwo: 0.7308124192807478<br>\n",
    "files/text7 podobienstwo: 0.7823212289941944<br>\n",
    "files/text8 podobienstwo: 0.7081733785171156<br>\n",
    "files/text9 podobienstwo: 0.684121680728448<br>\n",
    "files/text10 podobienstwo: 0.7624468996282712<br>\n",
    "files/text11 podobienstwo: 0.673639318754443<br>\n",
    "files/text12 podobienstwo: 0.6662673569023083<br>\n",
    "files/text13 podobienstwo: 0.4953157525810843<br>\n",
    "files/text14 podobienstwo: 0.5797087046129175<br>\n",
    "files/text15 podobienstwo: 0.641895006595177<br>\n",
    "files/text16 podobienstwo: 0.6654572227367344<br>\n",
    "files/text17 podobienstwo: 0.6473878746924165<br>\n",
    "files/text18 podobienstwo: 0.7393141358116608<br>\n",
    "files/text19 podobienstwo: 0.7763142577753642<br>\n",
    "Dla k =  15 <br>\n",
    "files/text0 podobienstwo: 0.6473632728968914<br>\n",
    "files/text1 podobienstwo: 0.7152840563376274<br>\n",
    "files/text2 podobienstwo: 0.713716656625828<br>\n",
    "files/text3 podobienstwo: 0.9994721283568503<br>\n",
    "files/text4 podobienstwo: 0.7916472077720842<br>\n",
    "files/text5 podobienstwo: 0.757469084049332<br>\n",
    "files/text6 podobienstwo: 0.7320329334562412<br>\n",
    "files/text7 podobienstwo: 0.7818642057940818<br>\n",
    "files/text8 podobienstwo: 0.7083010472016419<br>\n",
    "files/text9 podobienstwo: 0.6839820851402515<br>\n",
    "files/text10 podobienstwo: 0.7620287774400563<br>\n",
    "files/text11 podobienstwo: 0.6743796840434689<br>\n",
    "files/text12 podobienstwo: 0.6650497868669213<br>\n",
    "files/text13 podobienstwo: 0.49593313919243326<br>\n",
    "files/text14 podobienstwo: 0.5795997161824765<br>\n",
    "files/text15 podobienstwo: 0.6427058109519425<br>\n",
    "files/text16 podobienstwo: 0.6648701208826961<br>\n",
    "files/text17 podobienstwo: 0.6473044807282534<br>\n",
    "files/text18 podobienstwo: 0.7394608807809115<br>\n",
    "files/text19 podobienstwo: 0.7754519469789822<br>\n",
    "Dla k =  16 <br>\n",
    "files/text0 podobienstwo: 0.6472571348561216<br>\n",
    "files/text1 podobienstwo: 0.7152690364377547<br>\n",
    "files/text2 podobienstwo: 0.7137963839712429<br>\n",
    "files/text3 podobienstwo: 0.999478165548495<br>\n",
    "files/text4 podobienstwo: 0.7916563939732971<br>\n",
    "files/text5 podobienstwo: 0.7573966222888943<br>\n",
    "files/text6 podobienstwo: 0.732082444880572<br>\n",
    "files/text7 podobienstwo: 0.7818967488243802<br>\n",
    "files/text8 podobienstwo: 0.708451622164347<br>\n",
    "files/text9 podobienstwo: 0.684344821920156<br>\n",
    "files/text10 podobienstwo: 0.761793891083144<br>\n",
    "files/text11 podobienstwo: 0.6741688616573449<br>\n",
    "files/text12 podobienstwo: 0.6649431510230526<br>\n",
    "files/text13 podobienstwo: 0.4958647504465153<br>\n",
    "files/text14 podobienstwo: 0.5797338306782124<br>\n",
    "files/text15 podobienstwo: 0.6426410719793804<br>\n",
    "files/text16 podobienstwo: 0.6648957529029095<br>\n",
    "files/text17 podobienstwo: 0.6473432719066733<br>\n",
    "files/text18 podobienstwo: 0.7395001012763026<br>\n",
    "files/text19 podobienstwo: 0.7754086257127145<br>\n",
    "Dla k =  17 <br>\n",
    "files/text0 podobienstwo: 0.6474677695362688<br>\n",
    "files/text1 podobienstwo: 0.7149998841271515<br>\n",
    "files/text2 podobienstwo: 0.7139636691815386<br>\n",
    "files/text3 podobienstwo: 0.9995165371545167<br>\n",
    "files/text4 podobienstwo: 0.7915121973432244<br>\n",
    "files/text5 podobienstwo: 0.7572213081442187<br>\n",
    "files/text6 podobienstwo: 0.7320486308562538<br>\n",
    "files/text7 podobienstwo: 0.7822243414136529<br>\n",
    "files/text8 podobienstwo: 0.7083323545875777<br>\n",
    "files/text9 podobienstwo: 0.6844384245626675<br>\n",
    "files/text10 podobienstwo: 0.7618768916249484<br>\n",
    "files/text11 podobienstwo: 0.6739302276138585<br>\n",
    "files/text12 podobienstwo: 0.6650322936146849<br>\n",
    "files/text13 podobienstwo: 0.4957816820874263<br>\n",
    "files/text14 podobienstwo: 0.5797934395379651<br>\n",
    "files/text15 podobienstwo: 0.6434115893576008<br>\n",
    "files/text16 podobienstwo: 0.6640671163159453<br>\n",
    "files/text17 podobienstwo: 0.6474892981158793<br>\n",
    "files/text18 podobienstwo: 0.7394447838805069<br>\n",
    "files/text19 podobienstwo: 0.7753848791677781<br>\n",
    "Dla k =  18 <br>\n",
    "files/text0 podobienstwo: 0.6476139730687875<br>\n",
    "files/text1 podobienstwo: 0.714949393402347<br>\n",
    "files/text2 podobienstwo: 0.7135671680952511<br>\n",
    "files/text3 podobienstwo: 0.999871503764056<br>\n",
    "files/text4 podobienstwo: 0.7915104281571778<br>\n",
    "files/text5 podobienstwo: 0.7568019655347893<br>\n",
    "files/text6 podobienstwo: 0.7342085543596755<br>\n",
    "files/text7 podobienstwo: 0.7811689053247006<br>\n",
    "files/text8 podobienstwo: 0.7079282848282837<br>\n",
    "files/text9 podobienstwo: 0.6843995323686857<br>\n",
    "files/text10 podobienstwo: 0.7631618449364629<br>\n",
    "files/text11 podobienstwo: 0.6724325839725829<br>\n",
    "files/text12 podobienstwo: 0.6659357335595796<br>\n",
    "files/text13 podobienstwo: 0.4951489109709713<br>\n",
    "files/text14 podobienstwo: 0.5799729554945974<br>\n",
    "files/text15 podobienstwo: 0.6431388842099665<br>\n",
    "files/text16 podobienstwo: 0.6641837098128232<br>\n",
    "files/text17 podobienstwo: 0.6474101064224307<br>\n",
    "files/text18 podobienstwo: 0.7392920452604603<br>\n",
    "files/text19 podobienstwo: 0.7749300369232901<br>\n",
    "Dla k =  19 <br>\n",
    "files/text0 podobienstwo: 0.648000923853788<br>\n",
    "files/text1 podobienstwo: 0.7152050892613799<br>\n",
    "files/text2 podobienstwo: 0.7134273410550271<br>\n",
    "files/text3 podobienstwo: 0.9999946406229635<br>\n",
    "files/text4 podobienstwo: 0.7913488391578313<br>\n",
    "files/text5 podobienstwo: 0.7569316082635682<br>\n",
    "files/text6 podobienstwo: 0.7341765452474655<br>\n",
    "files/text7 podobienstwo: 0.7814277711757984<br>\n",
    "files/text8 podobienstwo: 0.7063838936733755<br>\n",
    "files/text9 podobienstwo: 0.6852517996518492<br>\n",
    "files/text10 podobienstwo: 0.7630969254242785<br>\n",
    "files/text11 podobienstwo: 0.6727330235245701<br>\n",
    "files/text12 podobienstwo: 0.6659131463167438<br>\n",
    "files/text13 podobienstwo: 0.49517661575981475<br>\n",
    "files/text14 podobienstwo: 0.5800208910474645<br>\n",
    "files/text15 podobienstwo: 0.6430307505527267<br>\n",
    "files/text16 podobienstwo: 0.6643952575068304<br>\n",
    "files/text17 podobienstwo: 0.6473028113480015<br>\n",
    "files/text18 podobienstwo: 0.7392945781266056<br>\n",
    "files/text19 podobienstwo: 0.7745713171587897<br>\n",
    "Dla k =  20 <br>\n",
    "files/text0 podobienstwo: 0.6480034342340961<br>\n",
    "files/text1 podobienstwo: 0.7151965974804904<br>\n",
    "files/text2 podobienstwo: 0.713428267239045<br>\n",
    "files/text3 podobienstwo: 0.9999947898557685<br>\n",
    "files/text4 podobienstwo: 0.7913464624079807<br>\n",
    "files/text5 podobienstwo: 0.7568777855340423<br>\n",
    "files/text6 podobienstwo: 0.7342031113008861<br>\n",
    "files/text7 podobienstwo: 0.7814588576072337<br>\n",
    "files/text8 podobienstwo: 0.7063827048745076<br>\n",
    "files/text9 podobienstwo: 0.6852385341061928<br>\n",
    "files/text10 podobienstwo: 0.7630824471708304<br>\n",
    "files/text11 podobienstwo: 0.6727572416286587<br>\n",
    "files/text12 podobienstwo: 0.6659163707861294<br>\n",
    "files/text13 podobienstwo: 0.49517484537618267<br>\n",
    "files/text14 podobienstwo: 0.5800221568716074<br>\n",
    "files/text15 podobienstwo: 0.6430239398395207<br>\n",
    "files/text16 podobienstwo: 0.6644065433958484<br>\n",
    "files/text17 podobienstwo: 0.6473037790202929<br>\n",
    "files/text18 podobienstwo: 0.7392935634642681<br>\n",
    "files/text19 podobienstwo: 0.7745740900525788<br>"
   ]
  },
  {
   "cell_type": "markdown",
   "metadata": {},
   "source": [
    "* Bez IDF, algorytm przyporządkowuje podobieństwo do wieszkości plików. Pokazuje to potengę IDF. Podane pliki zostały wybrane z jednego źródła, zawierają one bardzo dużo podobnych termów (takich które nie są treścią np. tagi html) powoduje to ,że duża część słów jest powszechna. IDF eliminuje ten problem. \n",
    "* Jak widać dla pliku text3 prawdopodobienstwo wynosi 0.99 bardzo wysoko. Jak wspomnialem wyżej, jest to spowodowane tym że badany fragment jest częścią tegoż właśnie pliku."
   ]
  },
  {
   "cell_type": "markdown",
   "metadata": {},
   "source": [
    "Źróło plików do badania: https://www.english-corpora.org/corpora.asp"
   ]
  }
 ],
 "metadata": {
  "kernelspec": {
   "display_name": "Python 3",
   "language": "python",
   "name": "python3"
  },
  "language_info": {
   "codemirror_mode": {
    "name": "ipython",
    "version": 3
   },
   "file_extension": ".py",
   "mimetype": "text/x-python",
   "name": "python",
   "nbconvert_exporter": "python",
   "pygments_lexer": "ipython3",
   "version": "3.7.4"
  }
 },
 "nbformat": 4,
 "nbformat_minor": 2
}
