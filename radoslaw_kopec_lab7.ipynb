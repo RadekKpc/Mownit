{
 "cells": [
  {
   "cell_type": "markdown",
   "metadata": {},
   "source": [
    "<h5 align=\"center\">Metody Obliczeniowe w Nauce i Technice </h5>\n",
    "<h6 align=\"center\">Labolatorium 7</h6>\n",
    "<h6 align=\"center\">Dekompozycja spektralna</h6>\n",
    "<h6 align=\"center\">22 kwietnia 2020</h6>"
   ]
  },
  {
   "cell_type": "code",
   "execution_count": 2,
   "metadata": {},
   "outputs": [],
   "source": [
    "from numpy.linalg import eig, norm\n",
    "from random import randint\n",
    "import numpy as np\n",
    "import time\n",
    "import matplotlib.pyplot as plt\n",
    "import scipy.linalg as linalg\n",
    "\n",
    "epsilon = 0.0000001\n",
    "inteartions = 99999"
   ]
  },
  {
   "cell_type": "markdown",
   "metadata": {},
   "source": [
    "Funkcje pomocnicze:"
   ]
  },
  {
   "cell_type": "code",
   "execution_count": 3,
   "metadata": {},
   "outputs": [],
   "source": [
    "def show_matrix(mat):\n",
    "    for i in mat:\n",
    "        for j in i:\n",
    "            print(j, end=' ')\n",
    "        print()\n",
    "    print()"
   ]
  },
  {
   "cell_type": "code",
   "execution_count": 4,
   "metadata": {},
   "outputs": [],
   "source": [
    "def get_matrx(size):\n",
    "    A = []\n",
    "    for i in range(size):\n",
    "        A.append([])\n",
    "        for j in range(size):\n",
    "            A[i].append(randint(0,100))\n",
    "    return A"
   ]
  },
  {
   "cell_type": "code",
   "execution_count": 5,
   "metadata": {},
   "outputs": [],
   "source": [
    "def vector_normalization(vec):\n",
    "    norm2 = norm(vec, ord=np.inf)\n",
    "    return vec/norm2"
   ]
  },
  {
   "cell_type": "markdown",
   "metadata": {},
   "source": [
    "<b>Zadanie 1 Metoda potęgowa</b> <br><hr>\n",
    "Napisz funkcję obliczającą metodą potęgową dominującą wartość własną (największą co do modułu) i odpowiadający jej wektor własny dla danej macierzy rzeczywistej symetrycznej. Sprawdź poprawność działania programu porównując własną implementację z wynikami funkcji bibliotecznej. Przedstaw na wykresie zależność czasu obliczeń od rozmiaru macierzy (rozmiary macierzy 100x100, 500x500, ...).\n",
    "* Powtarzaj mnożenie wektora xi przez macierz A: \n"
   ]
  },
  {
   "cell_type": "markdown",
   "metadata": {},
   "source": [
    "\\begin{equation*}\n",
    "x_{i+1} = Ax_{i}\n",
    "\\end{equation*}"
   ]
  },
  {
   "cell_type": "markdown",
   "metadata": {},
   "source": [
    "dzieląc za każdym razem wektor wynikowy przez ||xi+1||\n",
    "*  Element wektora xi o największej wartości bezwzględnej zbiega do dominującej wartości własne\n",
    "* Przeskalowany wektor xi zbiega do dominującego wektora własnego\n",
    "* Obliczenia powinny się zatrzymać po przekroczeniu maksymalnej liczby iteracji, albo w przypadku gdy ||xi −xi+1|| < e (kryterium małej poprawki\n",
    "* Pod koniec obliczeń znormalizuj otrzymany wektor własny."
   ]
  },
  {
   "cell_type": "markdown",
   "metadata": {},
   "source": [
    "Funkcja realizująca metodę potęgową"
   ]
  },
  {
   "cell_type": "code",
   "execution_count": 20,
   "metadata": {},
   "outputs": [],
   "source": [
    "def power_finding(size,A):\n",
    "    x0 = np.array([1 for i in range(size)])\n",
    "    x0 = np.array(x0/norm(x0,np.inf))\n",
    "    out = False\n",
    "\n",
    "    for i in range(inteartions):\n",
    "\n",
    "        x1 = np.dot(A,x0)\n",
    "        x2 = x1/norm(x1, np.inf)\n",
    "\n",
    "        if norm(x2 - x0) < epsilon:\n",
    "            out = True\n",
    "        x0 = x2\n",
    "        if out:\n",
    "            break\n",
    "\n",
    "    return norm(x1, np.inf), x0/norm(x0)"
   ]
  },
  {
   "cell_type": "markdown",
   "metadata": {},
   "source": [
    "Sprawdzenie poprawności działania:"
   ]
  },
  {
   "cell_type": "code",
   "execution_count": 21,
   "metadata": {},
   "outputs": [
    {
     "name": "stdout",
     "output_type": "stream",
     "text": [
      "90 34 66 \n",
      "5 29 20 \n",
      "89 93 15 \n",
      "\n",
      "Funcja biblioteczna:\n",
      "[148.1213644   31.24307051 -45.36443491]\n",
      "[[-0.77717933 -0.67813267 -0.3836325 ]\n",
      " [-0.1357858   0.69213353 -0.21570337]\n",
      " [-0.61445464  0.24715838  0.89794107]]\n",
      "Moja funckja:\n",
      "(148.1213690898814, array([0.77717934, 0.1357858 , 0.61445463]))\n"
     ]
    }
   ],
   "source": [
    "A = get_matrx(3)\n",
    "show_matrix(A)\n",
    "w, v = eig(A)\n",
    "print(\"Funcja biblioteczna:\")\n",
    "print(w)\n",
    "print(v)\n",
    "print(\"Moja funckja:\")\n",
    "print(power_finding(3,A))"
   ]
  },
  {
   "cell_type": "markdown",
   "metadata": {},
   "source": [
    "Wynik wartości własnej, oraz wektora jej odpowiadającemu są zgodne z funkcją biblioteczną."
   ]
  },
  {
   "cell_type": "code",
   "execution_count": 26,
   "metadata": {},
   "outputs": [
    {
     "name": "stdout",
     "output_type": "stream",
     "text": [
      "42 28 47 15 57 \n",
      "84 20 70 1 67 \n",
      "73 69 37 70 69 \n",
      "100 46 24 79 64 \n",
      "68 52 89 79 21 \n",
      "\n",
      "Funcja biblioteczna:\n",
      "[269.44463612 +0.j          22.17223409 +0.j\n",
      " -23.65176573+25.07120471j -23.65176573-25.07120471j\n",
      " -45.31333875 +0.j        ]\n",
      "[[ 0.31147816+0.j          0.21275846+0.j         -0.32286842-0.27721869j\n",
      "  -0.32286842+0.27721869j -0.39318852+0.j        ]\n",
      " [ 0.38532967+0.j          0.68318833+0.j         -0.57105301-0.05402982j\n",
      "  -0.57105301+0.05402982j -0.13697686+0.j        ]\n",
      " [ 0.50958797+0.j          0.01402583+0.j          0.20773912+0.15782669j\n",
      "   0.20773912-0.15782669j -0.2387261 +0.j        ]\n",
      " [ 0.49034061+0.j         -0.65233103+0.j          0.09270809+0.28001178j\n",
      "   0.09270809-0.28001178j -0.03816672+0.j        ]\n",
      " [ 0.50436949+0.j         -0.2495096 +0.j          0.57863531+0.j\n",
      "   0.57863531-0.j          0.87646636+0.j        ]]\n",
      "Moja funckja:\n",
      "(269.44463741489847, array([0.31147816, 0.38532967, 0.50958797, 0.49034061, 0.50436949]))\n"
     ]
    }
   ],
   "source": [
    "A = get_matrx(5)\n",
    "show_matrix(A)\n",
    "w, v = eig(A)\n",
    "print(\"Funcja biblioteczna:\")\n",
    "print(w)\n",
    "print(v)\n",
    "print(\"Moja funckja:\")\n",
    "print(power_finding(5,A))"
   ]
  },
  {
   "cell_type": "markdown",
   "metadata": {},
   "source": [
    "Wynik wartości własnej, oraz wektora jej odpowiadającemu są zgodne z funkcją biblioteczną."
   ]
  },
  {
   "cell_type": "code",
   "execution_count": 25,
   "metadata": {},
   "outputs": [
    {
     "name": "stdout",
     "output_type": "stream",
     "text": [
      "99 20 47 2 48 29 65 85 64 43 \n",
      "82 80 89 83 71 78 97 95 92 19 \n",
      "83 32 25 83 11 10 97 30 84 31 \n",
      "21 6 21 38 8 21 99 13 81 21 \n",
      "53 56 87 59 54 52 68 48 27 41 \n",
      "29 27 12 73 10 49 39 1 62 49 \n",
      "85 5 94 43 47 46 36 69 65 36 \n",
      "21 71 41 24 54 100 17 50 18 37 \n",
      "38 26 51 46 74 33 18 28 24 59 \n",
      "44 65 65 18 20 39 88 78 56 49 \n",
      "\n",
      "Funcja biblioteczna:\n",
      "[479.87989607 +0.j          53.95102714+53.62916149j\n",
      "  53.95102714-53.62916149j -49.55390512+40.3465158j\n",
      " -49.55390512-40.3465158j   -8.70557789+48.8671785j\n",
      "  -8.70557789-48.8671785j   17.4135303 +24.57504837j\n",
      "  17.4135303 -24.57504837j  -2.09004493 +0.j        ]\n",
      "[[ 0.32168119+0.j          0.14850192+0.47130412j  0.14850192-0.47130412j\n",
      "   0.01511653+0.27252751j  0.01511653-0.27252751j -0.32527072-0.06600621j\n",
      "  -0.32527072+0.06600621j -0.0912553 -0.00611297j -0.0912553 +0.00611297j\n",
      "   0.21416417+0.j        ]\n",
      " [ 0.49328283+0.j         -0.25566476-0.16155273j -0.25566476+0.16155273j\n",
      "  -0.06424589+0.13251281j -0.06424589-0.13251281j -0.04104268-0.05710215j\n",
      "  -0.04104268+0.05710215j  0.49646255+0.j          0.49646255-0.j\n",
      "   0.42324577+0.j        ]\n",
      " [ 0.29814444+0.j          0.32551948-0.0416239j   0.32551948+0.0416239j\n",
      "   0.47410252+0.j          0.47410252-0.j         -0.27461155+0.3531388j\n",
      "  -0.27461155-0.3531388j   0.06866026+0.01566352j  0.06866026-0.01566352j\n",
      "   0.26668564+0.j        ]\n",
      " [ 0.19431328+0.j          0.15814579-0.2144531j   0.15814579+0.2144531j\n",
      "  -0.05912452+0.46694348j -0.05912452-0.46694348j -0.0572461 -0.04069199j\n",
      "  -0.0572461 +0.04069199j -0.13545114+0.10583815j -0.13545114-0.10583815j\n",
      "  -0.39844353+0.j        ]\n",
      " [ 0.34935549+0.j          0.0083415 -0.20555328j  0.0083415 +0.20555328j\n",
      "  -0.06396484-0.23350399j -0.06396484+0.23350399j  0.53685754+0.j\n",
      "   0.53685754-0.j          0.28571133+0.2655129j   0.28571133-0.2655129j\n",
      "   0.05002273+0.j        ]\n",
      " [ 0.2067948 +0.j         -0.01003626-0.16473656j -0.01003626+0.16473656j\n",
      "   0.19323582-0.20491993j  0.19323582+0.20491993j -0.12842621+0.1997448j\n",
      "  -0.12842621-0.1997448j  -0.44918552-0.12108602j -0.44918552+0.12108602j\n",
      "  -0.07625305+0.j        ]\n",
      " [ 0.31630199+0.j          0.21231752+0.03471635j  0.21231752-0.03471635j\n",
      "  -0.24818132-0.27571766j -0.24818132+0.27571766j  0.06706582+0.24734318j\n",
      "   0.06706582-0.24734318j -0.23114348+0.16109573j -0.23114348-0.16109573j\n",
      "  -0.15735878+0.j        ]\n",
      " [ 0.28118697+0.j         -0.53371105+0.j         -0.53371105-0.j\n",
      "  -0.23988754-0.02333695j -0.23988754+0.02333695j  0.21857952-0.23875894j\n",
      "   0.21857952+0.23875894j -0.16094992+0.00617834j -0.16094992-0.00617834j\n",
      "  -0.60579401+0.j        ]\n",
      " [ 0.25383732+0.j         -0.05942238-0.07316228j -0.05942238+0.07316228j\n",
      "   0.01318119-0.25909496j  0.01318119+0.25909496j  0.05932201-0.39388366j\n",
      "   0.05932201+0.39388366j  0.3760552 -0.20352358j  0.3760552 +0.20352358j\n",
      "   0.36950302+0.j        ]\n",
      " [ 0.3437815 +0.j         -0.16766101+0.21903005j -0.16766101-0.21903005j\n",
      "  -0.02269074+0.23672012j -0.02269074-0.23672012j  0.07723601-0.01225031j\n",
      "   0.07723601+0.01225031j -0.03116705-0.23013318j -0.03116705+0.23013318j\n",
      "  -0.09230822+0.j        ]]\n",
      "Moja funckja:\n",
      "(479.87989563353483, array([0.32168119, 0.49328283, 0.29814444, 0.19431328, 0.34935549,\n",
      "       0.2067948 , 0.31630199, 0.28118697, 0.25383732, 0.3437815 ]))\n"
     ]
    }
   ],
   "source": [
    "A = get_matrx(10)\n",
    "show_matrix(A)\n",
    "w, v = eig(A)\n",
    "print(\"Funcja biblioteczna:\")\n",
    "print(w)\n",
    "print(v)\n",
    "print(\"Moja funckja:\")\n",
    "print(power_finding(10,A))"
   ]
  },
  {
   "cell_type": "markdown",
   "metadata": {},
   "source": [
    "Wynik wartości własnej, oraz wektora jej odpowiadającemu są zgodne z funkcją biblioteczną."
   ]
  },
  {
   "cell_type": "markdown",
   "metadata": {},
   "source": [
    "<hr>"
   ]
  },
  {
   "cell_type": "markdown",
   "metadata": {},
   "source": [
    "* Sprawdzamy teraz jak rośnie czas wykonania funkcji w zależności od wielkości macierzy"
   ]
  },
  {
   "cell_type": "markdown",
   "metadata": {},
   "source": [
    "Funckja sprawdzająca:"
   ]
  },
  {
   "cell_type": "code",
   "execution_count": 30,
   "metadata": {},
   "outputs": [],
   "source": [
    "def check_power_finding():\n",
    "    y = []\n",
    "    check_list = [x for x in range(100,2501,100)]\n",
    "    for c in check_list:\n",
    "        A = get_matrx(c)\n",
    "        start = time.process_time()\n",
    "        power_finding(c,A)\n",
    "        end = time.process_time()\n",
    "        print(\"Czas spedzony dla N = \",c,\": \", end - start)\n",
    "        y.append(end - start)\n",
    "\n",
    "    plt.plot(check_list,y,'ro',markersize=1)\n",
    "    plt.axis([0, 2600, 0.0, 6.0])\n",
    "    plt.show()"
   ]
  },
  {
   "cell_type": "code",
   "execution_count": 31,
   "metadata": {},
   "outputs": [
    {
     "name": "stdout",
     "output_type": "stream",
     "text": [
      "Czas spedzony dla N =  100 :  0.0\n",
      "Czas spedzony dla N =  200 :  0.125\n",
      "Czas spedzony dla N =  300 :  0.25\n",
      "Czas spedzony dla N =  400 :  0.390625\n",
      "Czas spedzony dla N =  500 :  0.640625\n",
      "Czas spedzony dla N =  600 :  1.0\n",
      "Czas spedzony dla N =  700 :  1.359375\n",
      "Czas spedzony dla N =  800 :  1.703125\n",
      "Czas spedzony dla N =  900 :  1.640625\n",
      "Czas spedzony dla N =  1000 :  2.46875\n",
      "Czas spedzony dla N =  1100 :  2.484375\n",
      "Czas spedzony dla N =  1200 :  2.953125\n",
      "Czas spedzony dla N =  1300 :  3.484375\n",
      "Czas spedzony dla N =  1400 :  3.609375\n",
      "Czas spedzony dla N =  1500 :  3.828125\n",
      "Czas spedzony dla N =  1600 :  4.03125\n",
      "Czas spedzony dla N =  1700 :  4.0\n",
      "Czas spedzony dla N =  1800 :  4.25\n",
      "Czas spedzony dla N =  1900 :  4.203125\n",
      "Czas spedzony dla N =  2000 :  4.71875\n",
      "Czas spedzony dla N =  2100 :  4.984375\n",
      "Czas spedzony dla N =  2200 :  5.140625\n",
      "Czas spedzony dla N =  2300 :  5.265625\n",
      "Czas spedzony dla N =  2400 :  5.515625\n",
      "Czas spedzony dla N =  2500 :  5.703125\n"
     ]
    },
    {
     "data": {
      "image/png": "[encoded data removed]",
      "text/plain": [
       "<Figure size 432x288 with 1 Axes>"
      ]
     },
     "metadata": {
      "needs_background": "light"
     },
     "output_type": "display_data"
    }
   ],
   "source": [
    "check_power_finding()"
   ]
  },
  {
   "cell_type": "markdown",
   "metadata": {},
   "source": [
    "<b>Zadanie 2 Odwrotna metoda potęgowa</b> <br><hr>\n",
    "Opierając się na twierdzeniu o transformacji widma macierzy:<br>\n",
    "<b>Twierdzenie 1 </b> Macierz (<b>A</b>−σ<b>I</b>)−1 (jeśli istnieje), to ma wartości własne równe 1/(λk −σ) ( λk jest k-tą wartością macierzy <b>A</b>) i wektory własne identyczne z macierzą <b>A</b>.<br><br>\n",
    "oraz wykorzystując metodę potęgową i faktoryzację LU zaimplementuj odwrotną metodę potęgową pozwalającą na szybkie znalezienie wektorów własnych macierzy A, dla wartości σ bliskich odpowiedniej wartości własnej. Wykorzystaj fakt, że mnożenie wektora xi przez macierz A−1 (xi+1 = A−1xi) odpowiada rozwiązaniu układu równań Axi+1 = xi.\n"
   ]
  },
  {
   "cell_type": "markdown",
   "metadata": {},
   "source": [
    "* Funkcja realizująca odwrotną metodę potęgową"
   ]
  },
  {
   "cell_type": "code",
   "execution_count": 36,
   "metadata": {},
   "outputs": [],
   "source": [
    "def inverse_power_method(size,A,sig):\n",
    "    x0 = np.array([1.5 for i in range(size)])\n",
    "    x0 = np.array(x0/np.linalg.norm(x0, ord=np.inf))\n",
    "    for i in range(size):\n",
    "        A[i][i] = A[i][i] - sig\n",
    "\n",
    "    out = False\n",
    "    LU = linalg.lu_factor(A)\n",
    "\n",
    "    for i in range(inteartions):\n",
    "        # Musimy obliczyc x z równania Ax = y za pomoca LU\n",
    "\n",
    "        x1 = linalg.lu_solve(LU, x0)\n",
    "        x2 = x1/np.linalg.norm(x1, ord=np.inf)\n",
    "\n",
    "        if norm(x2 - x0) < epsilon:\n",
    "            out = True\n",
    "\n",
    "        x0 = x2\n",
    "\n",
    "        if out:\n",
    "            break\n",
    "\n",
    "    return x1/norm(x1)"
   ]
  },
  {
   "cell_type": "markdown",
   "metadata": {},
   "source": [
    "Funkcja testująca"
   ]
  },
  {
   "cell_type": "code",
   "execution_count": 37,
   "metadata": {},
   "outputs": [],
   "source": [
    "def test_inverse_power_method():\n",
    "    A = get_matrx(3)\n",
    "    show_matrix(A)\n",
    "    w, v = eig(A)\n",
    "    print(\"Funcja biblioteczna:\")\n",
    "    print(w)\n",
    "    print(v)\n",
    "    print(\"Moja funckja:\")\n",
    "    print(\"Dla sigmy równej w przybliżeniu: \", w[0])\n",
    "    print(inverse_power_method(3,A,w[0] + 0.0001))\n",
    "    print(\"Dla sigmy równej w przybliżeniu: \", w[1])\n",
    "    print(inverse_power_method(3,A,w[1] + 0.0001))\n",
    "    print(\"Dla sigmy równej w przybliżeniu: \", w[2])\n",
    "    print(inverse_power_method(3,A,w[2] + 0.0001))"
   ]
  },
  {
   "cell_type": "code",
   "execution_count": 41,
   "metadata": {},
   "outputs": [
    {
     "name": "stdout",
     "output_type": "stream",
     "text": [
      "55 46 56 \n",
      "3 78 83 \n",
      "17 13 19 \n",
      "\n",
      "Funcja biblioteczna:\n",
      "[  2.94007804  37.85622532 111.20369664]\n",
      "[[ 0.06854554 -0.75339692 -0.74180247]\n",
      " [ 0.7387145   0.60222537 -0.6314612 ]\n",
      " [-0.67052397 -0.26404107 -0.22580047]]\n",
      "Moja funckja:\n",
      "Dla sigmy równej w przybliżeniu:  2.940078043265167\n",
      "[ 0.06854554  0.7387145  -0.67052397]\n",
      "Dla sigmy równej w przybliżeniu:  37.856225320368424\n",
      "[ 0.75339692 -0.60222537  0.26404107]\n",
      "Dla sigmy równej w przybliżeniu:  111.20369663636636\n",
      "[-0.74180247 -0.6314612  -0.22580047]\n"
     ]
    }
   ],
   "source": [
    "test_inverse_power_method()"
   ]
  },
  {
   "cell_type": "markdown",
   "metadata": {},
   "source": [
    "Jak widać wartości funkcji bibliotecznej zgadzają się z napisaną przezemnie funkcją."
   ]
  },
  {
   "cell_type": "markdown",
   "metadata": {},
   "source": [
    "<h3>Podsumowanie</h3><hr>"
   ]
  },
  {
   "cell_type": "markdown",
   "metadata": {},
   "source": [
    "<h6> Zastosowanie</h6><br>Wartośći własne macierzy znajdują szerokie zastosowanie:"
   ]
  },
  {
   "cell_type": "markdown",
   "metadata": {},
   "source": [
    "* algebrze i analizie liniowej,\n",
    "* podstawach automatyki,\n",
    "* procesach losowych i sterowaniu stochastycznym,\n",
    "* identyfikacji procesów,\n",
    "* nowoczesnych metodach teorii sterowania,\n",
    "* sterowaniu cyfrowym,\n",
    "* równaniach różniczkowych,\n",
    "* geometrii różniczkowej,\n",
    "* w algorytmie PCA, który jest używany np. do kompresji sygnałów,\n",
    "* w fizyce i chemii kwantowej,\n",
    "* w badaniu stabilności układów dynamicznych,\n",
    "* Google wykorzystuje wartości własne przy ocenianiu ważności strony algorytm PageRank.\n"
   ]
  },
  {
   "cell_type": "markdown",
   "metadata": {},
   "source": [
    "Równanie Schroedingera:<br>\n",
    "Funkcje falowe elektronów w atomie wodoru mogą być postrzegane jako\n",
    "wektory własne operatora energii i momentu pędu. Wartości własne\n",
    "reprezentują wartość energii (n=1,2,3,...) i momentu pędu (s, p, d, ...)."
   ]
  },
  {
   "cell_type": "markdown",
   "metadata": {},
   "source": [
    "Mechanika drgań: <br>\n",
    "Wartości własne reprezentują\n",
    "naturalne częstości drgań układu\n",
    "złożonego z kilku elementów.\n",
    "Wektory określają mody tych\n",
    "drgań."
   ]
  },
  {
   "cell_type": "markdown",
   "metadata": {},
   "source": [
    "Dynamika ruchu obrotowego:<br>\n",
    "Moment bezwładności trójwymiarowego\n",
    "obiektu bez żadnych osi symetrii jest\n",
    "dany macierzą 3 × 3. Wektory własne\n",
    "to kierunki osi przechodzące przez\n",
    "środek masy, wokół których obiekt\n",
    "może się obracać bez precesji. Wartości\n",
    "własne to wartości momentu pędu dla\n",
    "danego kierunku."
   ]
  },
  {
   "cell_type": "markdown",
   "metadata": {},
   "source": [
    "Analiza głównych składowych<br>\n",
    "Metoda statystyczna umożliwiająca zrzutowanie wysokomiarowego zbioru\n",
    "danych na dwa lub trzy wymiary. Umożliwia ona wybrać te kierunki\n",
    "wersorów, które charakteryzują się największą wariancją danych."
   ]
  },
  {
   "cell_type": "markdown",
   "metadata": {},
   "source": [
    "<b>Źródła pomocnicze</b>"
   ]
  },
  {
   "cell_type": "markdown",
   "metadata": {},
   "source": [
    "http://www.if.pw.edu.pl/~agatka/numeryczne/wyklad_04.pdf\n",
    "https://pl.wikipedia.org/wiki/Metoda_LU\n",
    "https://docs.scipy.org/doc/scipy-0.14.0/reference/generated/scipy.linalg.lu.html\n",
    "https://rperlinski.pl/strona/files/mn/w05_WartosciWektoryWlasne.pdf"
   ]
  }
 ],
 "metadata": {
  "kernelspec": {
   "display_name": "Python 3",
   "language": "python",
   "name": "python3"
  },
  "language_info": {
   "codemirror_mode": {
    "name": "ipython",
    "version": 3
   },
   "file_extension": ".py",
   "mimetype": "text/x-python",
   "name": "python",
   "nbconvert_exporter": "python",
   "pygments_lexer": "ipython3",
   "version": "3.7.4"
  }
 },
 "nbformat": 4,
 "nbformat_minor": 2
}
