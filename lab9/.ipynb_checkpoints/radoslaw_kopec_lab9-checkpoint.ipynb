{
 "cells": [
  {
   "cell_type": "markdown",
   "metadata": {},
   "source": [
    "<h5 align=\"center\">Metody Obliczeniowe w Nauce i Technice </h5>\n",
    "<h6 align=\"center\">Labolatorium 9</h6>\n",
    "<h6 align=\"center\">Faktoryzacja QR</h6>\n",
    "<h6 align=\"center\">21 maja 2020</h6>"
   ]
  },
  {
   "cell_type": "code",
   "execution_count": 1,
   "metadata": {},
   "outputs": [],
   "source": [
    "from numpy.linalg import qr\n",
    "import numpy as np\n",
    "import math\n",
    "import matplotlib.pyplot as pyplot"
   ]
  },
  {
   "cell_type": "markdown",
   "metadata": {},
   "source": [
    "<b>Zadanie 1 Faktoryzacja QR metodą Grama-Schmidta</b> <br><hr>\n",
    " Napisz funkcję dokonującą faktoryzacji QR macierzy A∈Rn×n,A = [a1,a2,...,an] (ai to kolejne kolumny macierzy A) klasyczną metodą ortogonalizacji GramaSchmidta "
   ]
  },
  {
   "cell_type": "code",
   "execution_count": 2,
   "metadata": {},
   "outputs": [],
   "source": [
    "def gram_schmid_qr(A,n):\n",
    "    A = np.array(A)\n",
    "    for i in range(n):\n",
    "        A[i] = np.array(A[i])\n",
    "    A = np.matrix.transpose(A)\n",
    "\n",
    "    U0 = A[0]/np.linalg.norm(A[0])\n",
    "    U0 = np.array(U0)\n",
    "    U = []\n",
    "    U.append(U0)\n",
    "    for k in range(1,n):\n",
    "\n",
    "        sum_vec =  np.array([np.float(0) for l in range(n)])\n",
    "        for i in range(k):\n",
    "            sum_vec = sum_vec + (np.dot(U[i],A[k])*U[i])\n",
    "        U.append(A[k] - sum_vec)\n",
    "        U[k] =  U[k]/np.linalg.norm(U[k])\n",
    "\n",
    "    Q =[]\n",
    "    for i in range(n):\n",
    "        Q.append(U[i])\n",
    "\n",
    "    Q = np.array(Q)\n",
    "    Q = np.matrix.transpose(Q)\n",
    "\n",
    "    R = [[0 for j in range(n)] for i in range(n)]\n",
    "\n",
    "    for k in range(n):\n",
    "        for i in range(k+1):\n",
    "            R[i][k] = np.dot(U[i],A[k])\n",
    "\n",
    "    return Q,np.array(R)"
   ]
  },
  {
   "cell_type": "markdown",
   "metadata": {},
   "source": [
    "2. Przetestuj zaimplementowaną metodę porównując wyniki uzyskane z jej pomocą z wynikami zwracanymi przez funkcję biblioteczną. W testach wykorzystaj 4-5 macierzy losowych o różnym rozmiarze. "
   ]
  },
  {
   "cell_type": "markdown",
   "metadata": {},
   "source": [
    "Funckja porównująca macierze"
   ]
  },
  {
   "cell_type": "code",
   "execution_count": 3,
   "metadata": {},
   "outputs": [],
   "source": [
    "def are_equals(A,B, delta):\n",
    "    for i,e in enumerate(A):\n",
    "        for j,f in enumerate(A[i]):\n",
    "            if(math.fabs(math.fabs(A[i][j]) - math.fabs(B[i][j])) > delta):\n",
    "                return False\n",
    "    return True"
   ]
  },
  {
   "cell_type": "markdown",
   "metadata": {},
   "source": [
    "Porównanie rezultatów z funkcją biblioteczną:"
   ]
  },
  {
   "cell_type": "code",
   "execution_count": 4,
   "metadata": {},
   "outputs": [
    {
     "name": "stdout",
     "output_type": "stream",
     "text": [
      "[[0.08491831]]\n",
      "[[1.]]\n",
      "[[0.08491831]]\n",
      "\n",
      "[[1.]]\n",
      "[[0.08491831]]\n",
      "Are equals Q?:  True\n",
      "Are equals R?:  True\n",
      "[[0.16748995 0.86149174]\n",
      " [0.91655071 0.2316322 ]]\n",
      "[[ 0.17976261  0.98371002]\n",
      " [ 0.98371002 -0.17976261]]\n",
      "[[0.93172855 0.38272291]\n",
      " [0.         0.80581925]]\n",
      "\n",
      "[[-0.17976261 -0.98371002]\n",
      " [-0.98371002  0.17976261]]\n",
      "[[-0.93172855 -0.38272291]\n",
      " [ 0.         -0.80581925]]\n",
      "Are equals Q?:  True\n",
      "Are equals R?:  True\n",
      "[[0.38405546 0.42129636 0.22222895]\n",
      " [0.30980639 0.57298216 0.78354909]\n",
      " [0.16725282 0.55350027 0.71276943]]\n",
      "[[ 0.73713553 -0.53666413 -0.4106371 ]\n",
      " [ 0.59462582  0.22646152  0.77145013]\n",
      " [ 0.32101611  0.81283872 -0.48604719]]\n",
      "[[0.52101066 0.82894501 0.85854185]\n",
      " [0.         0.35357022 0.63754801]\n",
      " [0.         0.         0.16677402]]\n",
      "\n",
      "[[-0.73713553  0.53666413  0.4106371 ]\n",
      " [-0.59462582 -0.22646152 -0.77145013]\n",
      " [-0.32101611 -0.81283872  0.48604719]]\n",
      "[[-0.52101066 -0.82894501 -0.85854185]\n",
      " [ 0.         -0.35357022 -0.63754801]\n",
      " [ 0.          0.         -0.16677402]]\n",
      "Are equals Q?:  True\n",
      "Are equals R?:  True\n",
      "[[0.74864845 0.75413952 0.57038072 0.90322436]\n",
      " [0.11397878 0.56407247 0.51839299 0.91043999]\n",
      " [0.21178349 0.53991381 0.95347071 0.06727064]\n",
      " [0.78666141 0.61614594 0.94273134 0.48541145]]\n",
      "[[ 0.67307899  0.01901936 -0.59226719 -0.44251838]\n",
      " [ 0.10247362  0.77417125 -0.27698476  0.55985486]\n",
      " [ 0.19040581  0.56604041  0.61725336 -0.51219349]\n",
      " [ 0.70725488 -0.28265772  0.43760406  0.47790987]]\n",
      "[[ 1.11227428  1.10397296  1.28533059  1.05735576]\n",
      " [ 0.          0.58248657  0.6854059   0.62288783]\n",
      " [ 0.          0.          0.51967131 -0.5331871 ]\n",
      " [ 0.          0.          0.          0.30754821]]\n",
      "\n",
      "[[-0.67307899 -0.01901936  0.59226719 -0.44251838]\n",
      " [-0.10247362 -0.77417125  0.27698476  0.55985486]\n",
      " [-0.19040581 -0.56604041 -0.61725336 -0.51219349]\n",
      " [-0.70725488  0.28265772 -0.43760406  0.47790987]]\n",
      "[[-1.11227428 -1.10397296 -1.28533059 -1.05735576]\n",
      " [ 0.         -0.58248657 -0.6854059  -0.62288783]\n",
      " [ 0.          0.         -0.51967131  0.5331871 ]\n",
      " [ 0.          0.          0.          0.30754821]]\n",
      "Are equals Q?:  True\n",
      "Are equals R?:  True\n",
      "[[0.52331042 0.60609425 0.82391732 0.28582402 0.11223713]\n",
      " [0.4840579  0.54452777 0.01114771 0.9123851  0.76083643]\n",
      " [0.21581185 0.38356183 0.1810513  0.34525032 0.10505071]\n",
      " [0.85977394 0.6394828  0.22309333 0.90887519 0.89790175]\n",
      " [0.00331148 0.72444134 0.64241673 0.213414   0.60580729]]\n",
      "[[ 0.46004306  0.14740754  0.79360345  0.34929386 -0.12173235]\n",
      " [ 0.42553611  0.11560276 -0.57015205  0.69289763  0.01935314]\n",
      " [ 0.18972056  0.23292533 -0.17153876 -0.27144155 -0.89813465]\n",
      " [ 0.75582871 -0.2168521  -0.11882522 -0.53380926  0.28744803]\n",
      " [ 0.00291113  0.92931586 -0.03968915 -0.19812583  0.30908652]]\n",
      "[[ 1.13752485  1.06876365  0.58862086  1.27282048  1.07575107]\n",
      " [ 0.          0.77619469  0.71354156  0.22926192  0.49724281]\n",
      " [ 0.          0.          0.56444434 -0.46905863 -0.4934783 ]\n",
      " [ 0.          0.          0.          0.11086195 -0.06146397]\n",
      " [ 0.          0.          0.          0.          0.35205896]]\n",
      "\n",
      "[[-0.46004306 -0.14740754  0.79360345  0.34929386  0.12173235]\n",
      " [-0.42553611 -0.11560276 -0.57015205  0.69289763 -0.01935314]\n",
      " [-0.18972056 -0.23292533 -0.17153876 -0.27144155  0.89813465]\n",
      " [-0.75582871  0.2168521  -0.11882522 -0.53380926 -0.28744803]\n",
      " [-0.00291113 -0.92931586 -0.03968915 -0.19812583 -0.30908652]]\n",
      "[[-1.13752485 -1.06876365 -0.58862086 -1.27282048 -1.07575107]\n",
      " [ 0.         -0.77619469 -0.71354156 -0.22926192 -0.49724281]\n",
      " [ 0.          0.          0.56444434 -0.46905863 -0.4934783 ]\n",
      " [ 0.          0.          0.          0.11086195 -0.06146397]\n",
      " [ 0.          0.          0.          0.         -0.35205896]]\n",
      "Are equals Q?:  True\n",
      "Are equals R?:  True\n"
     ]
    }
   ],
   "source": [
    "for i in range(5):\n",
    "    A = np.random.rand(i+1,i+1)\n",
    "    print(A)\n",
    "    Q,R = gram_schmid_qr(A,i+1)\n",
    "    q,r = qr(A)\n",
    "\n",
    "    print(Q)\n",
    "    print(R)\n",
    "    print()\n",
    "    print(q)\n",
    "    print(r)\n",
    "\n",
    "    print(\"Are equals Q?: \",are_equals(Q,q,0.001))\n",
    "    print(\"Are equals R?: \",are_equals(R,r,0.001))"
   ]
  },
  {
   "cell_type": "markdown",
   "metadata": {},
   "source": [
    "Jak widać wszystkie obliczone macierze są takie same"
   ]
  },
  {
   "cell_type": "markdown",
   "metadata": {},
   "source": [
    "3. Wygeneruj 30-50 przykładowych macierzy 8×8 o różnym wskaźniku uwarunkowania cond(Ai) (stosunek największej do najmniejszej wartości osobliwej). Wykorzystaj w tym celu SVD oraz biblioteczną funkcję realizującą dekompozycję QR (potrzebne będą dwie losowe macierze ortogonalne oraz diagonalna macierz odpowiednio szybko malejących wartości osobliwych)."
   ]
  },
  {
   "cell_type": "code",
   "execution_count": 5,
   "metadata": {},
   "outputs": [],
   "source": [
    "Matixes = []\n",
    "cond_m = []\n",
    "for i in range(500):\n",
    "    strength = 10000\n",
    "    cond = (i+1)*strength\n",
    "    S =  np.random.rand(8,8)\n",
    "    s,v,d = np.linalg.svd(S)\n",
    "    v[7] = v[0]/cond\n",
    "    M = np.dot(s,np.dot(np.diag(v),d))\n",
    "    Matixes.append(S)\n",
    "    cond_m.append(cond)"
   ]
  },
  {
   "cell_type": "markdown",
   "metadata": {},
   "source": [
    "4. Dla każdej z uzyskanych w ten sposób macierzy Ai wyznacz faktoryzację QR korzystając z zaimplementowanej funkcji (Ai = QiRi). Przedstaw zależnośćk ||I−QT*Q|| od cond(Ai)."
   ]
  },
  {
   "cell_type": "markdown",
   "metadata": {},
   "source": [
    "Do obliczeń zostałą wykożystana Norma Frobeniusa"
   ]
  },
  {
   "cell_type": "code",
   "execution_count": 7,
   "metadata": {},
   "outputs": [
    {
     "data": {
      "image/png": "[encoded data removed]",
      "text/plain": [
       "<Figure size 432x288 with 1 Axes>"
      ]
     },
     "metadata": {
      "needs_background": "light"
     },
     "output_type": "display_data"
    }
   ],
   "source": [
    "diff = []\n",
    "# Norma Frobeniusa\n",
    "for m in Matixes:\n",
    "\n",
    "    Q, R = gram_schmid_qr(m,len(m))\n",
    "    I = np.diag([1 for i in range(8)])\n",
    "    dif = I - np.dot(np.matrix.transpose(Q),Q)\n",
    "    suma = 0\n",
    "    for i in dif:\n",
    "        for j in i:\n",
    "            suma = suma +  math.fabs(j*j)\n",
    "    diff.append(math.sqrt(suma))\n",
    "\n",
    "pyplot.plot(cond_m,diff,'ro',markersize=1)\n",
    "pyplot.show()"
   ]
  },
  {
   "cell_type": "markdown",
   "metadata": {},
   "source": [
    "5. Zinterpretuj wyniki. Jaka jest przyczyna uzyskanych rozbieżności? Od czego zależy wielkość rozbieżności?"
   ]
  },
  {
   "cell_type": "markdown",
   "metadata": {},
   "source": [
    "Na wykresie można zauważyć, że błąd jest stały bliski zeru. Nie wiem czy to błąd obliczeń, czy po prostu ta metoda jest taka dobra."
   ]
  },
  {
   "cell_type": "markdown",
   "metadata": {},
   "source": [
    "<b>Zadanie 2 Rozwiązywanie układów równań metodą QR</b> <br><hr>\n",
    "Bezpośrednie rozwiązywanie układu równań przy pomocy równań normalnych jest obarczone dużym błędem jeśli macierz A jest źle uwarunkowana (jej współczynnik uwarunkowania jest wysoki). Lepszym sposobem jest wykorzystanie dekompozycji QR w tym celu."
   ]
  },
  {
   "cell_type": "markdown",
   "metadata": {},
   "source": [
    "1. Napisz funkcję rozwiązującą nadokreślony układ równań liniowych metodą QR korzystając z własności macierzy ortogonalnych: A^T = A^−1, a także z mechanizmu back substitution. Następnie wykorzystaj ją do rozwiązania problemu aproksymacji średniokwadratowej dla zbioru punktów podanego tabeli poniżej. Przyjmij model postaci:"
   ]
  },
  {
   "cell_type": "markdown",
   "metadata": {},
   "source": [
    "f(x) = c + bx + ax^2"
   ]
  },
  {
   "cell_type": "markdown",
   "metadata": {},
   "source": [
    " Przedstaw wizualizację uzyskanego wyniku (punkty oraz funkcja aproksymująca f)."
   ]
  },
  {
   "cell_type": "markdown",
   "metadata": {},
   "source": [
    "<table style=\"width:100%\">\n",
    "  <tr>\n",
    "    <th>x</th>\n",
    "    <th>-5</th>\n",
    "    <th>-4</th>\n",
    "    <th>-3</th>\n",
    "    <th>-2</th>\n",
    "    <th>-1</th>\n",
    "    <th>0</th>\n",
    "    <th>1</th>\n",
    "    <th>2</th>\n",
    "    <th>3</th>\n",
    "    <th>4</th>\n",
    "    <th>5</th>\n",
    "  </tr>\n",
    "  <tr>\n",
    "    <th>y</th>\n",
    "    <th>2</th>\n",
    "    <th>7</th>\n",
    "    <th>9</th>\n",
    "    <th>12</th>\n",
    "    <th>13</th>\n",
    "    <th>14</th>\n",
    "    <th>14</th>\n",
    "    <th>13</th>\n",
    "    <th>10</th>\n",
    "    <th>8</th>\n",
    "    <th>4</th>\n",
    "  </tr>\n",
    "</table>"
   ]
  },
  {
   "cell_type": "markdown",
   "metadata": {},
   "source": [
    "* Funkcja rozwiazująca ukłąd równań wykorzystująca QR"
   ]
  },
  {
   "cell_type": "code",
   "execution_count": 9,
   "metadata": {},
   "outputs": [],
   "source": [
    "def slove_qr(A,B):\n",
    "    Q, R = gram_schmid_qr(A,len(A))\n",
    "    v = np.dot(np.matrix.transpose(Q),B)\n",
    "    l = np.dot(np.dot(np.matrix.transpose(Q),Q),R)\n",
    "\n",
    "    #  back substitution\n",
    "    for i in range(len(A)):\n",
    "        v[i] = v[i]/l[i][i]\n",
    "        l[i] = l[i]/l[i][i]\n",
    "\n",
    "\n",
    "    for i in range(len(B) -1,-1,-1):\n",
    "        print(i)\n",
    "        for j in range(i+1,len(A)):\n",
    "            v[i] = v[i] - v[j]*l[i][j]\n",
    "\n",
    "    return v"
   ]
  },
  {
   "cell_type": "markdown",
   "metadata": {},
   "source": [
    "Rozwiązanie przykłądowego ukłądu równań do sprawdzenia poprawnośći"
   ]
  },
  {
   "cell_type": "markdown",
   "metadata": {},
   "source": [
    "\\begin{equation*}\n",
    "\\left\\{\\begin{matrix} \n",
    "x + y + z = 6\n",
    "\\\\ x + 2y + 3z = 14\n",
    "\\\\ 2x + y + z = 7\n",
    "\\end{matrix}\\right.\n",
    "\\end{equation*}\n"
   ]
  },
  {
   "cell_type": "code",
   "execution_count": 11,
   "metadata": {},
   "outputs": [
    {
     "name": "stdout",
     "output_type": "stream",
     "text": [
      "2\n",
      "1\n",
      "0\n",
      "[1. 2. 3.]\n"
     ]
    }
   ],
   "source": [
    "A = [[1,1,1],[1,2,3],[2,1,1]]\n",
    "b = [6,14,7]\n",
    "\n",
    "res = slove_qr(A,b)\n",
    "print(res)"
   ]
  },
  {
   "cell_type": "markdown",
   "metadata": {},
   "source": [
    "Funkcja jest poprawna wynik zgadza się z oczekiwaniami"
   ]
  },
  {
   "cell_type": "markdown",
   "metadata": {},
   "source": [
    "Stałe z zadania:"
   ]
  },
  {
   "cell_type": "code",
   "execution_count": 12,
   "metadata": {},
   "outputs": [],
   "source": [
    "N = 11\n",
    "M = 3\n",
    "x = [-5,-4,-3,-2,-1,0,1,2,3,4,5]\n",
    "y = [2,7,9,12,13,14,14,13,10,8,4]"
   ]
  },
  {
   "cell_type": "code",
   "execution_count": 13,
   "metadata": {},
   "outputs": [],
   "source": [
    "# Obliczanie współczynnikow s i t\n",
    "S = []\n",
    "T = []\n",
    "for i in range(0,2*M -1):\n",
    "    suma = 0\n",
    "    for j in range(0,N):\n",
    "        mult = 1\n",
    "        for k in range(0,i):\n",
    "            mult *= x[j]\n",
    "        suma += mult\n",
    "\n",
    "    S.append(suma)\n",
    "\n",
    "for i in range(M):\n",
    "    suma = 0\n",
    "    for j in range(0,N):\n",
    "        mult = y[j]\n",
    "        for k in range(0,i):\n",
    "            mult *= x[j]\n",
    "        suma += mult\n",
    "\n",
    "    T.append(suma)"
   ]
  },
  {
   "cell_type": "code",
   "execution_count": 14,
   "metadata": {},
   "outputs": [
    {
     "name": "stdout",
     "output_type": "stream",
     "text": [
      "[[11, 0, 110], [0, 110, 0], [110, 0, 1958]]\n"
     ]
    }
   ],
   "source": [
    "# Ulozenie macierzy\n",
    "\n",
    "X = []\n",
    "for i in range(M):\n",
    "    X.append([])\n",
    "    for j in range(i,i+M):\n",
    "        X[i].append(S[j])\n",
    "\n",
    "print(X)"
   ]
  },
  {
   "cell_type": "markdown",
   "metadata": {},
   "source": [
    "Rozwiązanie ukłądów równań:"
   ]
  },
  {
   "cell_type": "code",
   "execution_count": 15,
   "metadata": {},
   "outputs": [
    {
     "name": "stdout",
     "output_type": "stream",
     "text": [
      "2\n",
      "1\n",
      "0\n",
      "[13.97202797  0.18181818 -0.43356643]\n"
     ]
    }
   ],
   "source": [
    "A = slove_qr(X,T)\n",
    "\n",
    "print(A)\n",
    "\n",
    "c = A[0]\n",
    "b = A[1]\n",
    "a = A[2]\n",
    "\n",
    "func = lambda x : a*x*x + b*x + c"
   ]
  },
  {
   "cell_type": "markdown",
   "metadata": {},
   "source": [
    "Wizualizacja:"
   ]
  },
  {
   "cell_type": "code",
   "execution_count": 17,
   "metadata": {},
   "outputs": [
    {
     "data": {
      "image/png": "[encoded data removed]",
      "text/plain": [
       "<Figure size 432x288 with 1 Axes>"
      ]
     },
     "metadata": {
      "needs_background": "light"
     },
     "output_type": "display_data"
    }
   ],
   "source": [
    "res_x = []\n",
    "res_y = []\n",
    "\n",
    "start = min(x) -1\n",
    "end = max(x) + 1\n",
    "div = 1000\n",
    "x_tmp = min(x) - 1\n",
    "for i in range(div):\n",
    "    res_x.append(x_tmp)\n",
    "    res_y.append(func(x_tmp))\n",
    "    x_tmp += (end -start)/div\n",
    "\n",
    "\n",
    "pyplot.plot(res_x,res_y,'bo',markersize=1)\n",
    "pyplot.plot(x,y,'ro',markersize=2)\n",
    "pyplot.show()"
   ]
  },
  {
   "cell_type": "markdown",
   "metadata": {},
   "source": [
    "Wnioski: <br>\n",
    "* Faktoryzacja QR ma bardzo dużą zaletę: macierz R jest trójkątną górną co ułatwia wiele obliczeń natomiast macierez Q jest ortogonalna co również ułatwia obliczenia\n",
    "* Dekompozycja QR jest często używana do rozwiązywania liniowego problemu najmniejszych kwadratów, jest również podstawą do iteracyjnego liczenia wartości własnych macierzy."
   ]
  },
  {
   "cell_type": "markdown",
   "metadata": {},
   "source": [
    "Źródła: <br> https://eti.pg.edu.pl/documents/176593/26763380/Wykl_AlgorOblicz_3.pdf"
   ]
  }
 ],
 "metadata": {
  "kernelspec": {
   "display_name": "Python 3",
   "language": "python",
   "name": "python3"
  },
  "language_info": {
   "codemirror_mode": {
    "name": "ipython",
    "version": 3
   },
   "file_extension": ".py",
   "mimetype": "text/x-python",
   "name": "python",
   "nbconvert_exporter": "python",
   "pygments_lexer": "ipython3",
   "version": "3.7.4"
  }
 },
 "nbformat": 4,
 "nbformat_minor": 2
}
