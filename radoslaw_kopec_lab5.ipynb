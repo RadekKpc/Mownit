{
 "cells": [
  {
   "cell_type": "markdown",
   "metadata": {},
   "source": [
    "<h5 align=\"center\">Metody Obliczeniowe w Nauce i Technice </h5>\n",
    "<h6 align=\"center\">Labolatorium 5</h6>\n",
    "<h6 align=\"center\">Równania nieliniowe</h6>\n",
    "<h6 align=\"center\">7 kwietnia 2020</h6>"
   ]
  },
  {
   "cell_type": "code",
   "execution_count": 21,
   "metadata": {},
   "outputs": [],
   "source": [
    "from mpmath import cos,cosh,sec,sin,sinh,exp,tan,fabs,mpf,log,mp,pi"
   ]
  },
  {
   "cell_type": "markdown",
   "metadata": {},
   "source": [
    "<b>Zdefiniowanie funkcji tesowych</b> <br>"
   ]
  },
  {
   "cell_type": "markdown",
   "metadata": {},
   "source": [
    "\\begin{equation*}\n",
    "f_{1}(x) = cos(x)cosh(x) - 1, [\\frac{3}{2} \\pi,2 \\pi]\n",
    "\\end{equation*}\n",
    "\\begin{equation*}\n",
    "f_{2}(x) = \\frac{1}{x} - tan(x), [0, \\frac{ \\pi }{2}]\n",
    "\\end{equation*}\n",
    "\\begin{equation*}\n",
    "f_{3}(x) = 2^{~-x} + e^{x} + 2cos(x) - 6, [1,3]\n",
    "\\end{equation*}"
   ]
  },
  {
   "cell_type": "code",
   "execution_count": 22,
   "metadata": {},
   "outputs": [],
   "source": [
    "f1 = lambda x : cos(x)*cosh(x) - 1\n",
    "f2 = lambda x : 1/x  - tan(x)\n",
    "f3 = lambda x : 2**(-x) + exp(x) + 2*cos(x) - 6\n",
    "\n",
    "left_f1 = mpf(3/2*pi)\n",
    "right_f1 = mpf(2*pi)\n",
    "\n",
    "left_f2 = mpf(0)\n",
    "right_f2 = mpf(pi/2)\n",
    "\n",
    "left_f3 = mpf(1)\n",
    "right_f3 = mpf(3)"
   ]
  },
  {
   "cell_type": "markdown",
   "metadata": {},
   "source": [
    "<b>Zadanie 1 Metoda Bisekcji</b> <br><hr>\n",
    "Pieszemy funkcję realizującą metodę bisekcji dla danej funkcji f w oparciu o arytmetykę o zmiennej precyzji (mpmath.mpf). Funkcja przyjmuje następujące argumenty:\n",
    "* Minimalną precyzję obliczeń (liczba cyfr znaczących)\n",
    "* Krańce przedziału\n",
    "* Błąd bezwzględny obliczeń"
   ]
  },
  {
   "cell_type": "markdown",
   "metadata": {},
   "source": [
    "Funkcja ma zwracać wyznaczone miejsce zerowe, wyliczoną wartość w miejscu zerowym oraz liczbę iteracji potrzebną do uzyskania określonej dokładności. Testujemy działanie metody dla funkcji podanych na początku instrukcji. Jaka liczba iteracji jest potrzebna do uzyskania bezwzględnej dokładności rzędu: 10−7, 10−15, 10−33? W jaki sposób możemy obliczyć k pierwszych dodatnich pierwiastków funkcji f1(x)?"
   ]
  },
  {
   "cell_type": "markdown",
   "metadata": {},
   "source": [
    "* Funkcja realizująca metode bisekcji"
   ]
  },
  {
   "cell_type": "code",
   "execution_count": 23,
   "metadata": {},
   "outputs": [],
   "source": [
    "def bisection(min_precision,left,right,absolute_error,f):\n",
    "\n",
    "    # ustawienie precyzji\n",
    "    mp.dps = min_precision\n",
    "    # zfracany wnik\n",
    "    x = mpf(0.0)\n",
    "    # liczba krokow\n",
    "    k = 0\n",
    "\n",
    "    left = mpf(left)\n",
    "    right = mpf(right)\n",
    "    absolute_error = mpf(absolute_error)\n",
    "\n",
    "    while fabs(left - right) > absolute_error:\n",
    "\n",
    "        x = mpf((left + right)/2)\n",
    "        if fabs(f(x)) <= absolute_error:\n",
    "            break\n",
    "        elif mpf(f(left))*mpf(f(x)) < mpf(0):\n",
    "            right = x\n",
    "        elif mpf(f(right))*mpf(f(x)) < mpf(0):\n",
    "            left = x\n",
    "        k += 1\n",
    "\n",
    "    print(\"Miejsce zerowe\",x)\n",
    "    print(\"Wartosc funkcji\",f(x))\n",
    "    print(\"Liczba krokow\",k)\n",
    "    print()"
   ]
  },
  {
   "cell_type": "markdown",
   "metadata": {},
   "source": [
    "* Testy dla błędu bezwzględnego 10^-7:"
   ]
  },
  {
   "cell_type": "code",
   "execution_count": 24,
   "metadata": {},
   "outputs": [
    {
     "name": "stdout",
     "output_type": "stream",
     "text": [
      "Miejsce zerowe 4.730041\n",
      "Wartosc funkcji -9.164214e-7\n",
      "Liczba krokow 25\n",
      "\n",
      "Miejsce zerowe 0.8603336\n",
      "Wartosc funkcji -7.450581e-8\n",
      "Liczba krokow 23\n",
      "\n",
      "Miejsce zerowe 1.829384\n",
      "Wartosc funkcji 0.0\n",
      "Liczba krokow 22\n",
      "\n"
     ]
    }
   ],
   "source": [
    "# dla f1\n",
    "bisection(7,left_f1,right_f1,mpf(10**(-7)),f1)\n",
    "\n",
    "#  dla f2\n",
    "bisection(7,left_f2 +mpf(10**(-7)),right_f2,mpf(10**(-7)),f2)\n",
    "\n",
    "#  dla f3\n",
    "bisection(7,left_f3,right_f3,mpf(10**(-7)),f3)"
   ]
  },
  {
   "cell_type": "markdown",
   "metadata": {},
   "source": [
    "* Testy dla błędu bezwzględnego 10^-15:"
   ]
  },
  {
   "cell_type": "code",
   "execution_count": 25,
   "metadata": {},
   "outputs": [
    {
     "name": "stdout",
     "output_type": "stream",
     "text": [
      "Miejsce zerowe 4.7300407448627\n",
      "Wartosc funkcji 3.574918139293e-14\n",
      "Liczba krokow 51\n",
      "\n",
      "Miejsce zerowe 0.86033358901938\n",
      "Wartosc funkcji 0.0\n",
      "Liczba krokow 50\n",
      "\n",
      "Miejsce zerowe 1.82938360193385\n",
      "Wartosc funkcji -8.88178419700125e-16\n",
      "Liczba krokow 47\n",
      "\n"
     ]
    }
   ],
   "source": [
    "#  dla f1\n",
    "bisection(15,left_f1,right_f1,mpf(10**(-15)),f1)\n",
    "\n",
    "#  dla f2\n",
    "bisection(15,left_f2+mpf(10**(-15)),right_f2,mpf(10**(-15)),f2)\n",
    "\n",
    "#  dla f3\n",
    "bisection(15,left_f3,right_f3,mpf(10**(-15)),f3)"
   ]
  },
  {
   "cell_type": "markdown",
   "metadata": {},
   "source": [
    "* Testy dla błędu bezwzględnego 10^-33:"
   ]
  },
  {
   "cell_type": "code",
   "execution_count": 26,
   "metadata": {},
   "outputs": [
    {
     "name": "stdout",
     "output_type": "stream",
     "text": [
      "Miejsce zerowe 4.73004074486270402602404810083388\n",
      "Wartosc funkcji -4.33334237487128066937595037081609e-33\n",
      "Liczba krokow 111\n",
      "\n",
      "Miejsce zerowe 0.860333589019379762483893424137662\n",
      "Wartosc funkcji 9.62964972193617926527988971292464e-34\n",
      "Liczba krokow 110\n",
      "\n",
      "Miejsce zerowe 1.82938360193384881713621294681415\n",
      "Wartosc funkcji 7.70371977754894341222391177033971e-34\n",
      "Liczba krokow 110\n",
      "\n"
     ]
    }
   ],
   "source": [
    "#  dla f1\n",
    "bisection(33,left_f1,right_f1,mpf(10**(-33)),f1)\n",
    "\n",
    "#  dla f2\n",
    "bisection(33,left_f2+mpf(10**(-7)),right_f2,mpf(10**(-33)),f2)\n",
    "\n",
    "#  dla f3\n",
    "bisection(33,left_f3,right_f3,mpf(10**(-33)),f3)"
   ]
  },
  {
   "cell_type": "markdown",
   "metadata": {},
   "source": [
    "* <b>Wnioski:</b><br> Do uzyskania potrzebnej dokładności wyagane jest odpowiednio około 23,50, oraz 110 kroków. Do lewego krańca przedzialu funkcji nr 2 dodajemy wartość błędu bezwzględnego. W celu uniknięcia dzielenia przez 0 (0 nie należy do dzeidziny tej funkcji).Liczba kroków rośnie logarytmicznie według wzoru:\n"
   ]
  },
  {
   "cell_type": "markdown",
   "metadata": {},
   "source": [
    "\\begin{equation*}\n",
    "n = \\frac{log\\frac{b-a}{\\epsilon }}{log 2}\n",
    "\\end{equation*}"
   ]
  },
  {
   "cell_type": "markdown",
   "metadata": {},
   "source": [
    "Można to prosto uzasadnić, w przedziale [a,b] mieści się (b-a)/ε przedziałów długości ε. Przekształcając powyższy wzór otrzymujemy:"
   ]
  },
  {
   "cell_type": "markdown",
   "metadata": {},
   "source": [
    "\\begin{equation*}\n",
    "2^{n} =  \\frac{b-a}{\\epsilon}\n",
    "\\end{equation*}"
   ]
  },
  {
   "cell_type": "markdown",
   "metadata": {},
   "source": [
    "Jako, że za każdym razem dzieliny nowy przedział na dwa to musimy wykonać n kroków, aby uzyskać przedział długości ε. Patrząc z drugiej strony, mamy przedziały długości ε, za każdym razem podwajamy ich ilosć, żeby ostatecznie uzyskać ich ilość odpowiadającą przedziałowi [a,b], więc (b-a)/ε małych przedziałów. Możemy tylko podwajać ilosć przedziałów, wiec ich liczba w każdym kroku to 2^n."
   ]
  },
  {
   "cell_type": "markdown",
   "metadata": {},
   "source": [
    "* <b>W jaki sposób możemy obliczyć k pierwszych dodatnich pierwiastków funkcji f1(x)?</b>"
   ]
  },
  {
   "cell_type": "markdown",
   "metadata": {},
   "source": [
    "Funckja nr 1 jest funkcją okresową, znamy więc przedziały w których występują miejsca zerowe. Wystarczy więc k razy wywołać bisekcje dla kolejncyh przedziałów odległych o pi."
   ]
  },
  {
   "cell_type": "markdown",
   "metadata": {},
   "source": [
    "<b>Zadanie 2 Metoda Newtona</b> <br><hr>\n",
    "Pieszemy funkcję  realizującą metodę Newtona w oparciu o arytmetykę o zmiennej precyzji (mpmath.mpf). Funkcja ma wykorzystywać dwa kryteria stopu: \n",
    "* maksymalną liczbę iteracji\n",
    "* moduł różnicy kolejnych przybliżeń mniejszy od danej wartości ε"
   ]
  },
  {
   "cell_type": "markdown",
   "metadata": {},
   "source": [
    "Oprócz przybliżonej wartości pierwiastka funkcja ma zwrócić liczbę iteracji potrzebną do uzyskania określonej dokładności ε. Testujemy działanie metody dla funkcji podanych na początku sprawozdania (dodatkowo dostępne pochodne tych funkcji). Porównujemy zbieżność metody ze zbieżnością uzyskaną dla metody bisekcji.\n"
   ]
  },
  {
   "cell_type": "markdown",
   "metadata": {},
   "source": [
    "* Zdefiniowanie pochodnych funkcji wejsciowych"
   ]
  },
  {
   "cell_type": "code",
   "execution_count": 27,
   "metadata": {},
   "outputs": [],
   "source": [
    "df1 = lambda x : -cosh(x)*sin(x) + cos(x)*sinh(x)\n",
    "df2 = lambda x : -1/(x**2) - sec(x)**2\n",
    "df3 = lambda x : exp(x) - 2**(-x)*log(2) - 2*sin(x)"
   ]
  },
  {
   "cell_type": "markdown",
   "metadata": {},
   "source": [
    "* Funkcja realuzująca metode Newtona"
   ]
  },
  {
   "cell_type": "code",
   "execution_count": 45,
   "metadata": {},
   "outputs": [],
   "source": [
    "def newton_method(min_precision,left,right,epsilon,f,df,max_iterations):\n",
    "    mp.dps = min_precision\n",
    "    k = 0\n",
    "    start_point = mpf(left)\n",
    "    x = mpf(right)\n",
    "    epsilon = mpf(epsilon)\n",
    "    while k < max_iterations:\n",
    "\n",
    "        x = start_point - mpf(f(start_point))/mpf(df(start_point))\n",
    "\n",
    "        if  fabs(start_point - x) <= epsilon:\n",
    "            break\n",
    "        start_point = x\n",
    "        k += 1\n",
    "\n",
    "    print(\"Miejsce zerowe\",x)\n",
    "    print(\"Wartosc funkcji\",f(x))\n",
    "    print(\"Liczba krokow\",k)\n",
    "    print()"
   ]
  },
  {
   "cell_type": "markdown",
   "metadata": {},
   "source": [
    "* Testy dla błędu bezwzględnego 10^-7:"
   ]
  },
  {
   "cell_type": "code",
   "execution_count": 46,
   "metadata": {},
   "outputs": [
    {
     "name": "stdout",
     "output_type": "stream",
     "text": [
      "Miejsce zerowe 4.730041\n",
      "Wartosc funkcji -9.164214e-7\n",
      "Liczba krokow 3\n",
      "\n",
      "Miejsce zerowe 0.8603336\n",
      "Wartosc funkcji 0.0\n",
      "Liczba krokow 22\n",
      "\n",
      "Miejsce zerowe 1.829384\n",
      "Wartosc funkcji 0.0\n",
      "Liczba krokow 7\n",
      "\n"
     ]
    }
   ],
   "source": [
    "#  dla f1\n",
    "newton_method(7,left_f1,right_f1,mpf(10**(-7)),f1,df1,200)\n",
    "\n",
    "#  dla f2\n",
    "newton_method(7,left_f2+mpf(10**(-6)),right_f2,mpf(10**(-7)),f2,df2,200)\n",
    "\n",
    "#  dla f3\n",
    "newton_method(7,left_f3,right_f3,mpf(10**(-7)),f3,df3,200)"
   ]
  },
  {
   "cell_type": "markdown",
   "metadata": {},
   "source": [
    "* Testy dla błędu bezwzględnego 10^-15:"
   ]
  },
  {
   "cell_type": "code",
   "execution_count": 47,
   "metadata": {},
   "outputs": [
    {
     "name": "stdout",
     "output_type": "stream",
     "text": [
      "Miejsce zerowe 4.7300407448627\n",
      "Wartosc funkcji -1.53210777398272e-14\n",
      "Liczba krokow 4\n",
      "\n",
      "Miejsce zerowe 0.86033358901938\n",
      "Wartosc funkcji 0.0\n",
      "Liczba krokow 50\n",
      "\n",
      "Miejsce zerowe 1.82938360193385\n",
      "Wartosc funkcji 0.0\n",
      "Liczba krokow 8\n",
      "\n"
     ]
    }
   ],
   "source": [
    "#  dla f1\n",
    "newton_method(15,left_f1,right_f1,mpf(10**(-15)),f1,df1,200)\n",
    "\n",
    "#  dla f2\n",
    "newton_method(15,left_f2+mpf(10**(-14)),right_f2,mpf(10**(-15)),f2,df2,200)\n",
    "\n",
    "#  dla f3\n",
    "newton_method(15,left_f3,right_f3,mpf(10**(-15)),f3,df3,200)"
   ]
  },
  {
   "cell_type": "markdown",
   "metadata": {},
   "source": [
    "* Testy dla błędu bezwzględnego 10^-33:"
   ]
  },
  {
   "cell_type": "code",
   "execution_count": 48,
   "metadata": {},
   "outputs": [
    {
     "name": "stdout",
     "output_type": "stream",
     "text": [
      "Miejsce zerowe 4.73004074486270402602404810083388\n",
      "Wartosc funkcji -4.33334237487128066937595037081609e-33\n",
      "Liczba krokow 5\n",
      "\n",
      "Miejsce zerowe 0.860333589019379762483893424137662\n",
      "Wartosc funkcji -1.92592994438723585305597794258493e-34\n",
      "Liczba krokow 111\n",
      "\n",
      "Miejsce zerowe 1.82938360193384881713621294681415\n",
      "Wartosc funkcji 0.0\n",
      "Liczba krokow 9\n",
      "\n"
     ]
    }
   ],
   "source": [
    "#  dla f1\n",
    "newton_method(33,left_f1,right_f1,mpf(10**(-33)),f1,df1,200)\n",
    "\n",
    "#  dla f2\n",
    "newton_method(33,left_f2+mpf(10**(-32)),right_f2,mpf(10**(-33)),f2,df2,200)\n",
    "\n",
    "#  dla f3\n",
    "newton_method(33,left_f3,right_f3,mpf(10**(-33)),f3,df3,200)"
   ]
  },
  {
   "cell_type": "markdown",
   "metadata": {},
   "source": [
    "* <b>Wnioski</b><br>Do lewego krańca przedzialu funkcji nr 2 dodajemy wartość błędu bezwzględnego, aby uniknąć dzielenia przez 0 (0 nie należy do dzeidziny tej funkcji). Do uzyskania potrzebnej dokładności wymagane jest odpowiednio 7,8,9 kroków jet to o wiele mniej niż w przypadku metody bisekcji. Wadą tego rozwiązania jest konieczność znania pochodnej funckji."
   ]
  },
  {
   "cell_type": "markdown",
   "metadata": {},
   "source": [
    "<b>Zadanie 3 Metoda siecznych</b> <br><hr>\n",
    "Pieszemy funkcję  realizującą metodę siecznych w oparciu o arytmetykę o zmiennej precyzji (mpmath.mpf). Funkcja ma wykorzystywać dwa kryteria stopu: \n",
    "* maksymalną liczbę iteracji\n",
    "* moduł różnicy kolejnych przybliżeń mniejszy od danej wartości ε"
   ]
  },
  {
   "cell_type": "markdown",
   "metadata": {},
   "source": [
    "Testujemy działanie metody dla funkcji podanych na początku sprawozdania. Porównujemy zbieżność metody ze zbieżnością uzyskaną dla metody bisekcji oraz metody Newtona."
   ]
  },
  {
   "cell_type": "markdown",
   "metadata": {},
   "source": [
    "* Funckja realizujaca metodę siecznych"
   ]
  },
  {
   "cell_type": "code",
   "execution_count": 49,
   "metadata": {},
   "outputs": [],
   "source": [
    "def euler_method(min_precision,left,right,epsilon,f,max_iterations,k):\n",
    "    mp.dps = min_precision\n",
    "    left = mpf(left)\n",
    "    right = mpf(right)\n",
    "    epsilon = mpf(epsilon)\n",
    "    k = 0\n",
    "    while max_iterations > 0 and fabs(left - right) > epsilon:\n",
    "        max_iterations -= 1\n",
    "        k += 1\n",
    "        x0 = left - f(left)*(left - right)/(f(left) - f(right))\n",
    "        right = left\n",
    "        left = x0\n",
    "        if f(x0) < epsilon:\n",
    "            break\n",
    "    print(\"Miejsce zerowe\",x0)\n",
    "    print(\"Wartosc funkcji\",f(x0))\n",
    "    print(\"Liczba krokow\",k)\n",
    "    print()"
   ]
  },
  {
   "cell_type": "markdown",
   "metadata": {},
   "source": [
    "* Testy dla błędu bezwzględnego 10^-7:"
   ]
  },
  {
   "cell_type": "code",
   "execution_count": 55,
   "metadata": {},
   "outputs": [
    {
     "name": "stdout",
     "output_type": "stream",
     "text": [
      "Miejsce zerowe 4.730041\n",
      "Wartosc funkcji -9.164214e-7\n",
      "Liczba krokow 3\n",
      "\n",
      "Miejsce zerowe 0.8603336\n",
      "Wartosc funkcji 0.0\n",
      "Liczba krokow 22\n",
      "\n",
      "Miejsce zerowe 1.829384\n",
      "Wartosc funkcji 0.0\n",
      "Liczba krokow 7\n",
      "\n"
     ]
    }
   ],
   "source": [
    "newton_method(7,left_f1,right_f1,mpf(10**(-7)),f1,df1,200)\n",
    "\n",
    "#  dla f2\n",
    "newton_method(7,left_f2 + mpf(10**(-6)),right_f2,mpf(10**(-7)),f2,df2,200)\n",
    "\n",
    "#  dla f3\n",
    "newton_method(7,left_f3,right_f3,mpf(10**(-7)),f3,df3,200)"
   ]
  },
  {
   "cell_type": "markdown",
   "metadata": {},
   "source": [
    "* Testy dla błędu bezwzględnego 10^-15:"
   ]
  },
  {
   "cell_type": "code",
   "execution_count": 54,
   "metadata": {},
   "outputs": [
    {
     "name": "stdout",
     "output_type": "stream",
     "text": [
      "Miejsce zerowe 4.7300407448627\n",
      "Wartosc funkcji -1.53210777398272e-14\n",
      "Liczba krokow 4\n",
      "\n",
      "Miejsce zerowe 0.86033358901938\n",
      "Wartosc funkcji 0.0\n",
      "Liczba krokow 50\n",
      "\n",
      "Miejsce zerowe 1.82938360193385\n",
      "Wartosc funkcji 0.0\n",
      "Liczba krokow 8\n",
      "\n"
     ]
    }
   ],
   "source": [
    "#  dla f1\n",
    "newton_method(15,left_f1,right_f1,mpf(10**(-15)),f1,df1,200)\n",
    "\n",
    "#  dla f2\n",
    "newton_method(15,left_f2 + mpf(10**(-14)),right_f2,mpf(10**(-15)),f2,df2,200)\n",
    "\n",
    "#  dla f3\n",
    "newton_method(15,left_f3,right_f3,mpf(10**(-15)),f3,df3,200)"
   ]
  },
  {
   "cell_type": "markdown",
   "metadata": {},
   "source": [
    "* Testy dla błędu bezwzględnego 10^-33:"
   ]
  },
  {
   "cell_type": "code",
   "execution_count": 53,
   "metadata": {},
   "outputs": [
    {
     "name": "stdout",
     "output_type": "stream",
     "text": [
      "Miejsce zerowe 4.73004074486270402602404810083388\n",
      "Wartosc funkcji -4.33334237487128066937595037081609e-33\n",
      "Liczba krokow 5\n",
      "\n",
      "Miejsce zerowe 0.860333589019379762483893424137662\n",
      "Wartosc funkcji -1.92592994438723585305597794258493e-34\n",
      "Liczba krokow 111\n",
      "\n",
      "Miejsce zerowe 1.82938360193384881713621294681415\n",
      "Wartosc funkcji 0.0\n",
      "Liczba krokow 9\n",
      "\n"
     ]
    }
   ],
   "source": [
    "#  dla f1\n",
    "newton_method(33,left_f1,right_f1,mpf(10**(-33)),f1,df1,200)\n",
    "\n",
    "#  dla f2\n",
    "newton_method(33,left_f2 + mpf(10**(-32)),right_f2,mpf(10**(-33)),f2,df2,200)\n",
    "\n",
    "#  dla f3\n",
    "newton_method(33,left_f3,right_f3,mpf(10**(-33)),f3,df3,200)"
   ]
  },
  {
   "cell_type": "markdown",
   "metadata": {},
   "source": [
    "* <b>Wnioski</b><br>Do lewego krańca przedzialu funkcji nr 2 dodajemy wartość błędu bezwzględnego, aby uniknąć dzielenia przez 0 (0 nie należy do dzeidziny tej funkcji). Do uzyskania potrzebnej dokładności wymagane jest odpowiednio bardzo mało kroków. W przypadku funkcji nr 2 liczba kroków jest bardzo duża, gorsza niż w przypadku metod Newtona i bisekcji. Metoda siecznych jest więc dobra, ale nie nadaje się do badania każdej funkcji. W przypadku funkcji f1 i f3 metoda ta potrzebowała mniej kroków do osiągnięcia tej samej precyzji. Jednak dla funkcji f2 ta metoda zawodzi."
   ]
  },
  {
   "cell_type": "markdown",
   "metadata": {},
   "source": [
    "<h3>Podsumowanie</h3><hr>"
   ]
  },
  {
   "cell_type": "markdown",
   "metadata": {},
   "source": [
    "<h6>Metoda bisekcji</h6><br>\n",
    " Metoda bisekcji jest zbieżna liniowo z ilorazem 1/2. Choć ta zbieżność nie jest imponująca, bisekcja ma kilka istotnych zalet. Oprócz jej prostoty, należy podkreślić fakt, że bisekcja jest w pewnym sensie uniwersalna. Jeśli tylko dysponujemy dwoma punktami a i b takimi, że f przyjmuje w nich wartości przeciwnych znaków, to metoda bisekcji z pewnością znajdzie miejsce zerowe metoda jest zawsze zbieżna"
   ]
  },
  {
   "cell_type": "markdown",
   "metadata": {},
   "source": [
    "<b>Zalety:</b>\n",
    "- metoda jest zawsze zbieżna\n",
    "-  przedział, w którym znajduje się pierwiastek jest zawsze połowiony"
   ]
  },
  {
   "cell_type": "markdown",
   "metadata": {},
   "source": [
    "<b>Wady</b>\n",
    "- metoda jest wolnozbieżna\n",
    "- jeżeli pierwiastek odgadnięty jest bliski rzeczywistemu to szybkość maleje\n",
    "- Jeżeli funkcja f(x) jest taka, że dotyka osi OX (jak w f(x) = x^2) to nie można znaleźć pierwiastka metodą bisekcji"
   ]
  },
  {
   "cell_type": "markdown",
   "metadata": {},
   "source": [
    "<h6>Metoda Newtona</h6><br>\n",
    "Zaletą metody Newtona jest jej szybka zbieżność (w algorytmie liczba cyfr znaczących w kolejnych przybliżeniach podwaja się). Wadą jej jest fakt, iż zbieżność nie musi zawsze zachodzić.Drugą wadą jest to, że trzeba znać pochodną funkcji w punkcie. W wielu przypadkach metoda bywa rozbieżna, kiedy punkt startowy jest zbyt daleko od szukanego pierwiastka równania.\n"
   ]
  },
  {
   "cell_type": "markdown",
   "metadata": {},
   "source": [
    "<h6>Metoda Siecznych</h6><br>\n",
    "Metoda siecznych ma tę zaletę, że do wykonania interpolacji za jej pomocą niepotrzebna jest znajomość pochodnej danej funkcji. Wadą jest to, że metoda ta nie zawsze jest zbieżna."
   ]
  },
  {
   "cell_type": "markdown",
   "metadata": {},
   "source": [
    "<b>Źródła</b><br>\n",
    "http://wazniak.mimuw.edu.pl/index.php?title=MN02\n",
    "https://pl.wikipedia.org/wiki/Metoda_r%C3%B3wnego_podzia%C5%82u\n",
    "https://pl.wikipedia.org/wiki/Metoda_siecznych\n",
    "https://pl.wikipedia.org/wiki/Metoda_r%C3%B3wnego_podzia%C5%82u\n",
    "http://home.agh.edu.pl/~zak/downloads/MN4-2012.pdf"
   ]
  }
 ],
 "metadata": {
  "kernelspec": {
   "display_name": "Python 3",
   "language": "python",
   "name": "python3"
  },
  "language_info": {
   "codemirror_mode": {
    "name": "ipython",
    "version": 3
   },
   "file_extension": ".py",
   "mimetype": "text/x-python",
   "name": "python",
   "nbconvert_exporter": "python",
   "pygments_lexer": "ipython3",
   "version": "3.7.4"
  }
 },
 "nbformat": 4,
 "nbformat_minor": 2
}
