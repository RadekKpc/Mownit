{
 "cells": [
  {
   "cell_type": "markdown",
   "metadata": {},
   "source": [
    "<h5 align=\"center\">Metody Obliczeniowe w Nauce i Technice </h5>\n",
    "<h6 align=\"center\">Labolatorium 10</h6>\n",
    "<h6 align=\"center\">Dyskretna Transformacja Fouriera</h6>\n",
    "<h6 align=\"center\">26 maja 2020</h6>"
   ]
  },
  {
   "cell_type": "code",
   "execution_count": 36,
   "metadata": {},
   "outputs": [],
   "source": [
    "import numpy as np\n",
    "import cmath\n",
    "from scipy.linalg import dft\n",
    "from random import random\n",
    "import matplotlib.pyplot as pyplot\n",
    "import math\n",
    "import time"
   ]
  },
  {
   "cell_type": "markdown",
   "metadata": {},
   "source": [
    "<b>Zadanie 1 FFT</b> <br><hr>\n",
    "1. Zaimplementuj funkcję realizującą DFT jako iloczyn macierzy Fouriera Fn i nelementowego wektora wejściowego (y = Fnx)"
   ]
  },
  {
   "cell_type": "code",
   "execution_count": 2,
   "metadata": {},
   "outputs": [],
   "source": [
    "def fourier_matrix(N):\n",
    "    F = []\n",
    "    w = complex(cmath.cos(cmath.pi*2/N),(-1)*cmath.sin(2*cmath.pi/N))\n",
    "    for i in range(N):\n",
    "        F.append([])\n",
    "        for k in range(N):\n",
    "            F[i].append(complex(0,0))\n",
    "            F[i][k] = (pow(w,i*k))\n",
    "    return F\n",
    "\n",
    "def my_dft(A):\n",
    "    N =  len(A)\n",
    "    return np.dot(fourier_matrix(N),A)"
   ]
  },
  {
   "cell_type": "markdown",
   "metadata": {},
   "source": [
    "Sprawdź poprawność działania funkcji realizującej DFT stosując transformację odwrotną (x = F−1 n y) oraz porównując uzyskane wyniki z wyjściem funkcji bibliotecznej."
   ]
  },
  {
   "cell_type": "code",
   "execution_count": 6,
   "metadata": {},
   "outputs": [],
   "source": [
    "def are_equals(A,B, delta):\n",
    "    for i,e in enumerate(A):\n",
    "            if(math.fabs(math.fabs(A[i].real) - math.fabs(B[i].real)) > delta or math.fabs(math.fabs(A[i].imag) - math.fabs(B[i].imag)) > delta):\n",
    "                return False\n",
    "    return True"
   ]
  },
  {
   "cell_type": "code",
   "execution_count": 7,
   "metadata": {},
   "outputs": [
    {
     "name": "stdout",
     "output_type": "stream",
     "text": [
      "[0.15694768556327565, 0.452540339726779, 0.7213172815146318, 0.026274869922564337, 0.6911191226094778]\n",
      "[ 2.0481993 +0.j         -0.09445686-0.18163377j -0.53727358+0.8012577j\n",
      " -0.53727358-0.8012577j  -0.09445686+0.18163377j]\n",
      "[ 2.0481993 +0.j         -0.09445686-0.18163377j -0.53727358+0.8012577j\n",
      " -0.53727358-0.8012577j  -0.09445686+0.18163377j]\n",
      "Are equals ?  True\n",
      "[0.7462526032755472, 0.28225266219247236, 0.523724086177052, 0.4055887981113764, 0.2611727736475663]\n",
      "[2.21899092+0.j         0.16235038-0.08948635j 0.59378566+0.09996289j\n",
      " 0.59378566-0.09996289j 0.16235038+0.08948635j]\n",
      "[2.21899092+0.j         0.16235038-0.08948635j 0.59378566+0.09996289j\n",
      " 0.59378566-0.09996289j 0.16235038+0.08948635j]\n",
      "Are equals ?  True\n",
      "[0.6027679280896425, 0.21309231779953985, 0.6297733948791747, 0.863004217168881, 0.47510978111557145]\n",
      "[ 2.78374764+0.j         -0.39224838+0.38628305j  0.50729439-0.06780569j\n",
      "  0.50729439+0.06780569j -0.39224838-0.38628305j]\n",
      "[ 2.78374764+0.j         -0.39224838+0.38628305j  0.50729439-0.06780569j\n",
      "  0.50729439+0.06780569j -0.39224838-0.38628305j]\n",
      "Are equals ?  True\n",
      "[0.8369547105176486, 0.5525644529679746, 0.13538782661772752, 0.9792312663470011, 0.024994744872496644]\n",
      "[2.529133  +0.j         0.11368453-0.00574988j 0.71413575-1.1126405j\n",
      " 0.71413575+1.1126405j  0.11368453+0.00574988j]\n",
      "[2.529133  +0.j         0.11368453-0.00574988j 0.71413575-1.1126405j\n",
      " 0.71413575+1.1126405j  0.11368453+0.00574988j]\n",
      "Are equals ?  True\n",
      "[0.991772764977944, 0.9551470627088147, 0.4612775738950394, 0.4492675013196571, 0.5910195934508646]\n",
      "[3.4484845 +0.j         0.7329181 -0.35336515j 0.02227157-0.2026065j\n",
      " 0.02227157+0.2026065j  0.7329181 +0.35336515j]\n",
      "[3.4484845 +0.j         0.7329181 -0.35336515j 0.02227157-0.2026065j\n",
      " 0.02227157+0.2026065j  0.7329181 +0.35336515j]\n",
      "Are equals ?  True\n"
     ]
    }
   ],
   "source": [
    "for i in range(5):\n",
    "    A = [random() for _ in range(5)]\n",
    "    print(A)\n",
    "    C = np.fft.fft(A)\n",
    "    B = my_dft(A)\n",
    "\n",
    "    print(C)\n",
    "    print(B)\n",
    "    print(\"Are equals ? \",are_equals(C,B,0.001))"
   ]
  },
  {
   "cell_type": "markdown",
   "metadata": {},
   "source": [
    "* Zimplementowana funkcja zgadza się z funkcją biblioteczną"
   ]
  },
  {
   "cell_type": "markdown",
   "metadata": {},
   "source": [
    "2. Zaimplementuj również IDFT\n"
   ]
  },
  {
   "cell_type": "code",
   "execution_count": 8,
   "metadata": {},
   "outputs": [],
   "source": [
    "def my_idft(A):\n",
    "    N =  len(A)\n",
    "    F = np.conjugate(fourier_matrix(N))\n",
    "    F /= N\n",
    "    return np.dot(F,A)"
   ]
  },
  {
   "cell_type": "markdown",
   "metadata": {},
   "source": [
    "Sprawdź poprawność działania funkcji realizującej DFT stosując transformację odwrotną (x = F−1 n y) oraz porównując uzyskane wyniki z wyjściem funkcji bibliotecznej"
   ]
  },
  {
   "cell_type": "code",
   "execution_count": 9,
   "metadata": {},
   "outputs": [
    {
     "name": "stdout",
     "output_type": "stream",
     "text": [
      "[0.46535378811078487, 0.90265985905967, 0.8723644259821067, 0.3493732993577414, 0.36002260593498714]\n",
      "[ 0.5899548 -0.j         -0.02657249+0.16469703j -0.03572801-0.03568799j\n",
      " -0.03572801+0.03568799j -0.02657249-0.16469703j]\n",
      "[ 0.5899548 +0.j         -0.02657249+0.16469703j -0.03572801-0.03568799j\n",
      " -0.03572801+0.03568799j -0.02657249-0.16469703j]\n",
      "Are equals ?  True\n",
      "[0.630745544654028, 0.21199300033753288, 0.25554493115555144, 0.5757927260265636, 0.301664819403769]\n",
      "[0.3951482 -0.j         0.02338165-0.05470398j 0.09441702+0.0503732j\n",
      " 0.09441702-0.0503732j  0.02338165+0.05470398j]\n",
      "[0.3951482 +0.j         0.02338165-0.05470398j 0.09441702+0.0503732j\n",
      " 0.09441702-0.0503732j  0.02338165+0.05470398j]\n",
      "Are equals ?  True\n",
      "[0.2804727200191619, 0.46524589560266694, 0.02749557300212102, 0.9065191861338691, 0.6970323927550452]\n",
      "[ 0.47535315-0.j         -0.02319947-0.14742383j -0.07424075+0.13995209j\n",
      " -0.07424075-0.13995209j -0.02319947+0.14742383j]\n",
      "[ 0.47535315+0.j         -0.02319947-0.14742383j -0.07424075+0.13995209j\n",
      " -0.07424075-0.13995209j -0.02319947+0.14742383j]\n",
      "Are equals ?  True\n",
      "[0.39607510110018607, 0.6547186124383227, 0.738056791593063, 0.9792614252009674, 0.12831976723944183]\n",
      "[ 0.57928634-0.j         -0.15025847+0.07177171j  0.05865285+0.10776174j\n",
      "  0.05865285-0.10776174j -0.15025847-0.07177171j]\n",
      "[ 0.57928634+0.j         -0.15025847+0.07177171j  0.05865285+0.10776174j\n",
      "  0.05865285-0.10776174j -0.15025847-0.07177171j]\n",
      "Are equals ?  True\n",
      "[0.542616225163388, 0.4638129713149691, 0.6193075150140149, 0.3688507882868224, 0.5768519976618532]\n",
      "[0.5142879 -0.j         0.01295251+0.00794165j 0.00121166-0.06092823j\n",
      " 0.00121166+0.06092823j 0.01295251-0.00794165j]\n",
      "[0.5142879 +0.j         0.01295251+0.00794165j 0.00121166-0.06092823j\n",
      " 0.00121166+0.06092823j 0.01295251-0.00794165j]\n",
      "Are equals ?  True\n"
     ]
    }
   ],
   "source": [
    "for i in range(5):\n",
    "    A = [random() for _ in range(5)]\n",
    "    print(A)\n",
    "    C = np.fft.ifft(A)\n",
    "    B = my_idft(A)\n",
    "\n",
    "    print(C)\n",
    "    print(B)\n",
    "    print(\"Are equals ? \",are_equals(C,B,0.001))"
   ]
  },
  {
   "cell_type": "markdown",
   "metadata": {},
   "source": [
    "* Zimplementowana funkcja zgadza się z funkcją biblioteczną"
   ]
  },
  {
   "cell_type": "markdown",
   "metadata": {},
   "source": [
    "3. Zaimplementuj rekurencyjny algorytm Cooleya-Turkeya realizujący szybką transformację Fouriera (FFT). Porównaj szybkość jego działania z implementacją biblioteczną oraz implementacją z mnożeniem wektora przez macierz Fn dla danych o różnym rozmiarze."
   ]
  },
  {
   "cell_type": "code",
   "execution_count": 33,
   "metadata": {},
   "outputs": [],
   "source": [
    "def my_cooley_turkey(X):\n",
    "    n = len(X)\n",
    "    val = cmath.exp(-2*cmath.pi*1j/n)\n",
    "    if n > 1:\n",
    "        X = my_cooley_turkey(X[::2]) + my_cooley_turkey(X[1::2])\n",
    "        for k in range(n//2):\n",
    "            xk = X[k]\n",
    "            X[k] = xk + val**k*X[k+n//2]\n",
    "            X[k+n//2] = xk - val**k*X[k+n//2]\n",
    "    return X"
   ]
  },
  {
   "cell_type": "code",
   "execution_count": 34,
   "metadata": {},
   "outputs": [
    {
     "name": "stdout",
     "output_type": "stream",
     "text": [
      "[(0.46093659382535623+0.8025481460507717j), (0.6784175226591062+0.31551795307858943j), (0.6887504625703335+0.6440980426534938j), (0.14170959577500486+0.26605605597660953j), (0.8034109341672279+0.24877521484897724j), (0.12569871774873342+0.46296382989041085j), (0.3068142661408817+0.8992497425335416j), (0.6288387946044528+0.7770364403175205j)]\n",
      "Are equals ?  True\n"
     ]
    }
   ],
   "source": [
    "X = [complex(random(),random()) for _ in range(8)]\n",
    "print(X)\n",
    "A = np.fft.fft(X)\n",
    "print(\"Are equals ? \",are_equals(my_cooley_turkey(X),A,0.001))\n"
   ]
  },
  {
   "cell_type": "markdown",
   "metadata": {},
   "source": [
    "Jak widać wynik zgadza się z funkcją bibliteczną"
   ]
  },
  {
   "cell_type": "markdown",
   "metadata": {},
   "source": [
    "* Testy czasowe:"
   ]
  },
  {
   "cell_type": "code",
   "execution_count": 37,
   "metadata": {
    "scrolled": false
   },
   "outputs": [
    {
     "name": "stdout",
     "output_type": "stream",
     "text": [
      "Test dla macierzy o wielkosci 32 \n",
      "Czasy:\n",
      " Biblioteka: 0.0 Własny: 0.0 kwadratowy: 0.000997304916381836\n",
      "Test dla macierzy o wielkosci 64 \n",
      "Czasy:\n",
      " Biblioteka: 0.0009980201721191406 Własny: 0.0 kwadratowy: 0.0040166378021240234\n",
      "Test dla macierzy o wielkosci 128 \n",
      "Czasy:\n",
      " Biblioteka: 0.0 Własny: 0.0009968280792236328 kwadratowy: 0.014937400817871094\n",
      "Test dla macierzy o wielkosci 256 \n",
      "Czasy:\n",
      " Biblioteka: 0.001989603042602539 Własny: 0.000997304916381836 kwadratowy: 0.06482791900634766\n",
      "Test dla macierzy o wielkosci 512 \n",
      "Czasy:\n",
      " Biblioteka: 0.0 Własny: 0.0029909610748291016 kwadratowy: 0.18450474739074707\n",
      "Test dla macierzy o wielkosci 1024 \n",
      "Czasy:\n",
      " Biblioteka: 0.0 Własny: 0.010970830917358398 kwadratowy: 0.7958698272705078\n",
      "Test dla macierzy o wielkosci 2048 \n",
      "Czasy:\n",
      " Biblioteka: 0.0 Własny: 0.011966943740844727 kwadratowy: 2.942129611968994\n",
      "Test dla macierzy o wielkosci 4096 \n",
      "Czasy:\n",
      " Biblioteka: 0.0009980201721191406 Własny: 0.03693819046020508 kwadratowy: 12.249213218688965\n"
     ]
    }
   ],
   "source": [
    "\n",
    "for i in [2**5,2**6,2**7,2**8,2**9,2**10,2**11,2**12]:\n",
    "    X = [complex(random(),random()) for _ in range(i)]\n",
    "\n",
    "    print(f\"Test dla macierzy o wielkosci {i} \")\n",
    "    start = time.time()\n",
    "    A = np.fft.fft(X)\n",
    "    stop = time.time()\n",
    "    t_lib = stop - start\n",
    "\n",
    "    start = time.time()\n",
    "    my_cooley_turkey(X)\n",
    "    stop = time.time()\n",
    "    t_wl = stop - start\n",
    "\n",
    "    start = time.time()\n",
    "    my_dft(X)\n",
    "    stop = time.time()\n",
    "    t_kw = stop - start\n",
    "\n",
    "    print(f\"Czasy:\\n Biblioteka: {t_lib} Własny: {t_wl} kwadratowy: {t_kw}\")\n"
   ]
  },
  {
   "cell_type": "markdown",
   "metadata": {},
   "source": [
    "<h6> Wnioski: </h6>\n",
    "<hr>\n",
    "\n",
    "* Jak widać wyniki najlepiej wyszły dla funkcji bibliotecznej, następnie dla zaimplementowanego algorytmu Colleya-Turkeya, a następnie dla pierwszego algorytmu\n",
    "\n",
    "* Jest to spowodowane złożonośćią obliczeniową O(n*log(n)) dla algorytmu Colleya-Turkeya i O(n^2) dla standardowej implementacji\n",
    "\n",
    "* Algorytm Colleya-Turkeya dzięki swojej złożoności zrewoluzjonizował przetwarzanie sygnału. Maniejsza złożoność pozwoliła na znaczne przyspieszenie wykonywanie operacji i dokładniejsze przetwarzanie sygnałów. "
   ]
  },
  {
   "cell_type": "markdown",
   "metadata": {},
   "source": [
    "<b>Zadanie 2 DFT w 1D</b> <br><hr>\n",
    "* Wygeneruj dwa sygnały czasowo-amplitudowe:"
   ]
  },
  {
   "cell_type": "markdown",
   "metadata": {},
   "source": [
    "1. Sygnał będący sumą pięciu sygnałów sinusoidalnych o różnych częstotliwościach"
   ]
  },
  {
   "cell_type": "markdown",
   "metadata": {},
   "source": [
    "2. Sygnał złożony z pięciu sygnałów o tych samych częstotliwościach co w punkcie a), ale ułożonych przedziałami, tzn. w każdym z pięciu przedziałów o tej samej szerokości występuje sygnał o jednej częstotliwości"
   ]
  },
  {
   "cell_type": "code",
   "execution_count": 26,
   "metadata": {},
   "outputs": [],
   "source": [
    "def generate_signal(ran):\n",
    "\n",
    "    n1 = random()*10\n",
    "    n2 = random()*10\n",
    "    n3 = random()*10\n",
    "    n4 = random()*10\n",
    "    n5 = random()*10\n",
    "\n",
    "    return (lambda x: cmath.sin(n1*x) + cmath.sin(n2*x) + cmath.sin(n3*x) + cmath.sin(n4*x) + cmath.sin(n5*x),\n",
    "    lambda x: cmath.sin(n1*x) if x>=0 and x < ran/5 else cmath.sin(n2*x) if x>= ran/5 and x < 2*ran/5  else cmath.sin(n3*x) if x>= 2*ran/5 and x < 3*ran/5 else cmath.sin(n4*x) if x>= 3*ran/5 and x < 4*ran/5 else cmath.sin(n5*x))\n",
    "#     return lambda x: cmath.sin(2*x),lambda  x: cmath.sin(5*x)"
   ]
  },
  {
   "cell_type": "code",
   "execution_count": 27,
   "metadata": {},
   "outputs": [
    {
     "data": {
      "image/png": "[encoded data removed]",
      "text/plain": [
       "<Figure size 432x288 with 1 Axes>"
      ]
     },
     "metadata": {
      "needs_background": "light"
     },
     "output_type": "display_data"
    },
    {
     "data": {
      "image/png": "[encoded data removed]",
      "text/plain": [
       "<Figure size 432x288 with 1 Axes>"
      ]
     },
     "metadata": {
      "needs_background": "light"
     },
     "output_type": "display_data"
    }
   ],
   "source": [
    "N = 10\n",
    "ran = 500\n",
    "s1,s2 = generate_signal(N)\n",
    "x = []\n",
    "y = []\n",
    "x2 = []\n",
    "y2 = []\n",
    "for i in range(ran):\n",
    "    x.append(i* N/ran )\n",
    "    y.append(s1(i*N/ran))\n",
    "\n",
    "    x2.append(N/ran * i)\n",
    "    y2.append(s2(N/ran * i))\n",
    "\n",
    "\n",
    "pyplot.plot(x,y,'ro',markersize=1)\n",
    "pyplot.show()\n",
    "\n",
    "pyplot.plot(x2,y2,'ro',markersize=1)\n",
    "pyplot.show()"
   ]
  },
  {
   "cell_type": "markdown",
   "metadata": {},
   "source": [
    "* Dokonaj transformacji sygnałów 1) i 2) do domeny częstotliwościowej, porównaj otrzymane wyniki. Przedstaw na osobnych wykresach część rzeczywistą i część urojoną wyniku transformacji"
   ]
  },
  {
   "cell_type": "code",
   "execution_count": 30,
   "metadata": {},
   "outputs": [],
   "source": [
    "def draw_real(x,y):\n",
    "    X = []\n",
    "    Y= []\n",
    "    for i in range(len(x)//2):\n",
    "        X.append(x[i])\n",
    "        Y.append(y[i].real + y[len(y)-i-1].real)\n",
    "    pyplot.plot(X,Y)\n",
    "    pyplot.show()\n",
    "\n",
    "def draw_imag(x,y):\n",
    "    X = []\n",
    "    Y= []\n",
    "    for i in range(len(x)//2):\n",
    "        X.append(x[i])\n",
    "        Y.append(y[i].imag + y[len(y)-i-1].imag)\n",
    "    pyplot.plot(X,Y)\n",
    "    pyplot.show()"
   ]
  },
  {
   "cell_type": "code",
   "execution_count": 31,
   "metadata": {},
   "outputs": [
    {
     "data": {
      "image/png": "[encoded data removed]",
      "text/plain": [
       "<Figure size 432x288 with 1 Axes>"
      ]
     },
     "metadata": {
      "needs_background": "light"
     },
     "output_type": "display_data"
    },
    {
     "data": {
      "image/png": "[encoded data removed]",
      "text/plain": [
       "<Figure size 432x288 with 1 Axes>"
      ]
     },
     "metadata": {
      "needs_background": "light"
     },
     "output_type": "display_data"
    },
    {
     "data": {
      "image/png": "[encoded data removed]",
      "text/plain": [
       "<Figure size 432x288 with 1 Axes>"
      ]
     },
     "metadata": {
      "needs_background": "light"
     },
     "output_type": "display_data"
    },
    {
     "data": {
      "image/png": "[encoded data removed]",
      "text/plain": [
       "<Figure size 432x288 with 1 Axes>"
      ]
     },
     "metadata": {
      "needs_background": "light"
     },
     "output_type": "display_data"
    }
   ],
   "source": [
    "draw_real(x,y3)\n",
    "draw_imag(x,y3)\n",
    "\n",
    "draw_real(x2,y4)\n",
    "draw_imag(x2,y4)"
   ]
  },
  {
   "cell_type": "markdown",
   "metadata": {},
   "source": [
    "<h6> Wnioski: </h6>\n",
    "<hr>\n",
    "\n",
    "* Dyskretna Transformacja Fouriera pozwala na zniwelowanie szumów sygnału poprzez wyzerowanie amplitud wyższych harmoniczych. Jest to bardzo przydatne narzędzie w technice przetwarzania sygnałów.\n",
    "* Dwu wymiarowa Dyskretna Transformacja Fouriera pozwala na redukcje szumów w obrazach\n",
    "* Moduł liczby zespolonej reprezentuje amplitude harmonicznej natomiast, przesunięciem fazowym jest arguemnt liczby zespolonej"
   ]
  },
  {
   "cell_type": "markdown",
   "metadata": {},
   "source": [
    "<h6> Pomocne Źródła: </h6><hr>\n",
    "<a href=\"https://www.youtube.com/watch?v=WsJlJexWKPw\" >https://www.youtube.com/watch?v=WsJlJexWKPw</a> <br>\n",
    "<a href=\"https://pl.wikipedia.org/wiki/Algorytm_Cooleya-Tukeya\" >https://pl.wikipedia.org/wiki/Algorytm_Cooleya-Tukeya</a>\n",
    "\n",
    "\n",
    "\n"
   ]
  }
 ],
 "metadata": {
  "kernelspec": {
   "display_name": "Python 3",
   "language": "python",
   "name": "python3"
  },
  "language_info": {
   "codemirror_mode": {
    "name": "ipython",
    "version": 3
   },
   "file_extension": ".py",
   "mimetype": "text/x-python",
   "name": "python",
   "nbconvert_exporter": "python",
   "pygments_lexer": "ipython3",
   "version": "3.7.4"
  }
 },
 "nbformat": 4,
 "nbformat_minor": 2
}
